{
 "cells": [
  {
   "cell_type": "markdown",
   "metadata": {},
   "source": [
    "## UNIT – I \n",
    "# INTRODUCTION DATA, EXPRESSIONS, STATEMENTS "
   ]
  },
  {
   "cell_type": "code",
   "execution_count": 1,
   "metadata": {},
   "outputs": [
    {
     "name": "stdout",
     "output_type": "stream",
     "text": [
      "Hello World \n"
     ]
    }
   ],
   "source": [
    "print(\"Hello World \")"
   ]
  },
  {
   "cell_type": "markdown",
   "metadata": {},
   "source": [
    "# Data types: \n",
    "Int: \n"
   ]
  },
  {
   "cell_type": "code",
   "execution_count": 8,
   "metadata": {},
   "outputs": [
    {
     "name": "stdout",
     "output_type": "stream",
     "text": [
      "24656354687656\n",
      "30\n",
      "2\n",
      "2\n",
      "32\n",
      "10\n",
      "<class 'int'>\n"
     ]
    }
   ],
   "source": [
    "print(24656354687654+2) \n",
    "print (30)\n",
    "print (0b10)\n",
    "print(0B10)\n",
    "print(0X20)\n",
    " \n",
    "a = 10\n",
    "print (a)\n",
    "\n",
    "# To verify the type of any object in Python, use the type() function: \n",
    "print(type(a))"
   ]
  },
  {
   "cell_type": "markdown",
   "metadata": {},
   "source": [
    "# Float: \n",
    "Float, or \"floating point number\" is a number, positive or negative, containing one or more  decimals.\n",
    "\n"
   ]
  },
  {
   "cell_type": "code",
   "execution_count": null,
   "metadata": {},
   "outputs": [
    {
     "name": "stdout",
     "output_type": "stream",
     "text": [
      "2.8\n",
      "<class 'float'>\n",
      "<class 'float'>\n",
      "<class 'float'>\n",
      "<class 'float'>\n"
     ]
    }
   ],
   "source": [
    "y = 2.8\n",
    "print(y)\n",
    "print(type(y))\n",
    "\n",
    "x = 35e3  \n",
    "y = 12E4 \n",
    "z = -87.7e100 \n",
    "print(type(x)) \n",
    "print(type(y)) \n",
    "print(type(z)) \n"
   ]
  },
  {
   "cell_type": "markdown",
   "metadata": {},
   "source": [
    "# Boolean: \n",
    "Objects of Boolean type may have one of two values, True or False: \n"
   ]
  },
  {
   "cell_type": "code",
   "execution_count": 12,
   "metadata": {},
   "outputs": [
    {
     "name": "stdout",
     "output_type": "stream",
     "text": [
      "<class 'bool'>\n",
      "<class 'bool'>\n"
     ]
    }
   ],
   "source": [
    "print(type(True))\n",
    "print(type(False))\n"
   ]
  },
  {
   "cell_type": "markdown",
   "metadata": {},
   "source": [
    "# String: \n"
   ]
  },
  {
   "cell_type": "code",
   "execution_count": 25,
   "metadata": {},
   "outputs": [
    {
     "name": "stdout",
     "output_type": "stream",
     "text": [
      "Muhammad Talha\n",
      "<class 'str'>\n",
      "Government college Formen is an autonomous (') college\n",
      "Government college Formen is an autonomous (\") college\n",
      "Government college Formen is an autonomous (') college\n",
      "Government college Formen is an autonomous \" college\n",
      "a \n",
      "b\n",
      "Formen \n",
      "college\n"
     ]
    }
   ],
   "source": [
    "print(\"Muhammad Talha\")\n",
    "print(type(\"Muhammad Talha\"))\n",
    "\n",
    "print(\"Government college Formen is an autonomous (') college\")\n",
    "print('Government college Formen is an autonomous (\") college') \n",
    "\n",
    "print(\"Government college Formen is an autonomous (\\') college\") \n",
    "print(\"Government college Formen is an autonomous \\\" college\") \n",
    "\n",
    "print('a \\nb')\n",
    "\n",
    "print(\"Formen \\ncollege\") \n",
    "\n"
   ]
  },
  {
   "cell_type": "markdown",
   "metadata": {},
   "source": [
    "## List: \n"
   ]
  },
  {
   "cell_type": "code",
   "execution_count": 30,
   "metadata": {},
   "outputs": [
    {
     "name": "stdout",
     "output_type": "stream",
     "text": [
      "[1, 2, 3, 'A', 'B', 7, 8, [10, 'Talha']]\n",
      "[]\n",
      "['Talha', 123, True]\n",
      "<class 'list'>\n"
     ]
    }
   ],
   "source": [
    "mylist = [1,2,3,'A','B',7,8,[10,\"Talha\"]] \n",
    "print(mylist)\n",
    "\n",
    "#  another way to initialize list \n",
    "y = list()\n",
    "print(y)\n",
    "#  Change another data type into list \n",
    "\n",
    "myTup = (\"Talha\",123,True)\n",
    "mylist2 = list(myTup)\n",
    "print(mylist2)\n",
    "print(type(mylist2))\n"
   ]
  },
  {
   "cell_type": "markdown",
   "metadata": {},
   "source": [
    "## Variables: \n",
    "Variables are nothing but reserved memory locations to store values. This means that when you create a variable you reserve some space in memory. \n"
   ]
  },
  {
   "cell_type": "code",
   "execution_count": 4,
   "metadata": {},
   "outputs": [
    {
     "name": "stdout",
     "output_type": "stream",
     "text": [
      "500\n",
      "8700.0\n",
      "Talha\n",
      "Talha Talha Talha\n",
      "1 2 Formen College \n",
      "Formen \n",
      "Peoples Information Technology Program\n",
      "Technology ProgramPeoples Information \n"
     ]
    }
   ],
   "source": [
    "a= 500 # An integer assignment \n",
    "b = 8700.0 # A floating point \n",
    "c = \"Talha\" # A string \n",
    "print (a) \n",
    "print (b) \n",
    "print (c) \n",
    "#  Multiple Assignment: \n",
    "\n",
    "x = y = z = \"Talha\"\n",
    "print(x,y,z)\n",
    "\n",
    "a,b,c = 1,2,\"Formen College \" \n",
    "print(a,b,c)\n",
    "\n",
    "x =10# x is of type int \n",
    "x = \"Formen \"\n",
    "print(x) \n",
    "# To combine both text and a variable, Python uses the “+” character: \n",
    "x = \"Technology Program\" \n",
    "print(\"Peoples Information \" +  x) \n",
    "\n",
    "x = \"Technology Program\" \n",
    "y =  \"Peoples Information \"\n",
    "z = x + y \n",
    "print(z) \n",
    "\n",
    "\n",
    "\n"
   ]
  },
  {
   "cell_type": "markdown",
   "metadata": {},
   "source": [
    "## Expressions: \n",
    "An expression is a combination of values, variables, and operators. An expression is evaluated using assignment operator.\n",
    "\n"
   ]
  },
  {
   "cell_type": "code",
   "execution_count": null,
   "metadata": {},
   "outputs": [
    {
     "name": "stdout",
     "output_type": "stream",
     "text": [
      "30\n"
     ]
    }
   ],
   "source": [
    "x=10 \n",
    "Y=x + 17 \n",
    "z=x+20 \n",
    "print(z) \n",
    "\n"
   ]
  },
  {
   "cell_type": "markdown",
   "metadata": {},
   "source": [
    "## Precedence of Operators: \n"
   ]
  },
  {
   "cell_type": "code",
   "execution_count": 8,
   "metadata": {},
   "outputs": [
    {
     "name": "stdout",
     "output_type": "stream",
     "text": [
      "Value of (a + b) * c / d is  90.0\n",
      "Value of ((a + b) * c) / d is  90.0\n",
      "Value of (a + b) * (c / d) is  90.0\n",
      "Value of a + (b * c) / d is  50.0\n"
     ]
    }
   ],
   "source": [
    "a = 20 \n",
    "b = 10 \n",
    "c = 15 \n",
    "d = 5 \n",
    "e = 0 \n",
    "e = (a + b) * c / d #( 30 * 15 ) / 5 \n",
    "print(\"Value of (a + b) * c / d is \", e) \n",
    "e = ((a + b) * c) / d # (30 * 15 ) / 5 \n",
    "print(\"Value of ((a + b) * c) / d is \", e) \n",
    "e = (a + b) * (c / d); # (30) * (15/5)\n",
    "\n",
    "print(\"Value of (a + b) * (c / d) is \", e) \n",
    "e = a + (b * c) / d; # 20 + (150/5) \n",
    "print(\"Value of a + (b * c) / d is \", e) \n",
    "\n"
   ]
  },
  {
   "cell_type": "markdown",
   "metadata": {},
   "source": [
    "## Modules: "
   ]
  },
  {
   "cell_type": "code",
   "execution_count": 14,
   "metadata": {},
   "outputs": [
    {
     "name": "stdout",
     "output_type": "stream",
     "text": [
      "3.13.1 (tags/v3.13.1:0671451, Dec  3 2024, 19:06:28) [MSC v.1942 64 bit (AMD64)]\n",
      "      May 2021\n",
      "Mo Tu We Th Fr Sa Su\n",
      "                1  2\n",
      " 3  4  5  6  7  8  9\n",
      "10 11 12 13 14 15 16\n",
      "17 18 19 20 21 22 23\n",
      "24 25 26 27 28 29 30\n",
      "31\n",
      "\n",
      "True\n",
      "False\n"
     ]
    }
   ],
   "source": [
    "import calendar\n",
    "import sys \n",
    "print(sys.version) \n",
    "\n",
    "print(calendar.month(2021,5)) \n",
    "\n",
    "print(calendar.isleap(2000)) \n",
    " \n",
    "print(calendar.isleap(2014)) \n",
    "\n",
    "\n",
    "\n"
   ]
  },
  {
   "cell_type": "markdown",
   "metadata": {},
   "source": [
    "## Functions: \n",
    "### 1. Built-in functions - Functions that are built into Python. \n",
    "### 2. User-defined functions - Functions defined by the users themselves. \n"
   ]
  },
  {
   "cell_type": "code",
   "execution_count": 16,
   "metadata": {},
   "outputs": [
    {
     "name": "stdout",
     "output_type": "stream",
     "text": [
      "Absolute value of -20 is: 20\n",
      "The sum is 25\n"
     ]
    }
   ],
   "source": [
    "# Ex: abs(),all().ascii(),bool()………so on…. \n",
    "integer = -20 \n",
    "print('Absolute value of -20 is:', abs(integer)) \n",
    "\n",
    "def add_numbers(x,y): \n",
    " sum = x + y \n",
    " return sum \n",
    "print(\"The sum is\", add_numbers(5, 20)) \n",
    "\n"
   ]
  },
  {
   "cell_type": "markdown",
   "metadata": {},
   "source": [
    "## Flow of Execution: "
   ]
  },
  {
   "cell_type": "code",
   "execution_count": 17,
   "metadata": {},
   "outputs": [
    {
     "name": "stdout",
     "output_type": "stream",
     "text": [
      "welcome\n",
      "0\n",
      "1\n",
      "2\n",
      "Good morning Talha\n"
     ]
    }
   ],
   "source": [
    "print(\"welcome\") \n",
    "for x in range(3): \n",
    " print(x) \n",
    "print(\"Good morning Talha\") \n"
   ]
  },
  {
   "cell_type": "markdown",
   "metadata": {},
   "source": [
    "## Parameters and arguments:"
   ]
  },
  {
   "cell_type": "code",
   "execution_count": 28,
   "metadata": {},
   "outputs": [
    {
     "name": "stdout",
     "output_type": "stream",
     "text": [
      "60\n",
      "(15, 5)\n",
      "HELLOCOLLEGE\n",
      "mrcet\n",
      "a is 3 and b is 7 and c is 10\n",
      "a is 25 and b is 5 and c is 24\n",
      "a is 100 and b is 5 and c is 50\n",
      "ZAIN and TALHA are friends\n",
      "Hello Talha\n",
      "Hello Zain\n",
      "Hello Waqar\n",
      "Hello Salman\n"
     ]
    }
   ],
   "source": [
    "def add (num1, num2):\n",
    "    return num1 + num2\n",
    "result = add(15,45)\n",
    "print(result)\n",
    "\n",
    "\n",
    "def add_sub(x,y):\n",
    "    c=x+y\n",
    "    d=x-y\n",
    "    return c,d\n",
    "print(add_sub(10,5))\n",
    "\n",
    "def hello_f():\n",
    "    return \"hellocollege\"\n",
    "print(hello_f().upper())\n",
    "\n",
    "# Passing Arguments\n",
    "def hello(wish):\n",
    "    return '{}'.format(wish)\n",
    "print(hello(\"mrcet\"))\n",
    "\n",
    "\n",
    "# Key words Arguments \n",
    "def func(a, b=5, c=10): \n",
    "    print ('a is', a, 'and b is', b, 'and c is', c)\n",
    "27 \n",
    "func(3, 7) \n",
    "func(25, c=24) \n",
    "func(c=50, a=100)\n",
    "\n",
    "def print_name(name1, name2): \n",
    " \"\"\" This function prints the name \"\"\" \n",
    " print (name1 + \" and \" + name2 + \" are friends\") \n",
    "#calling the function \n",
    "print_name(name2 = 'TALHA',name1 = 'ZAIN')\n",
    "\n",
    "def wish(*names): \n",
    " \"\"\"This function greets all \n",
    " the person in the names tuple.\"\"\" \n",
    " # names is a tuple with arguments \n",
    " for name in names: \n",
    "   print(\"Hello\",name) \n",
    "wish(\"Talha\",\"Zain\",\"Waqar\",\"Salman\")\n",
    "\n",
    "\n",
    "\n"
   ]
  },
  {
   "cell_type": "markdown",
   "metadata": {},
   "source": [
    "## Practice Question At the End Of chapter 1"
   ]
  },
  {
   "cell_type": "code",
   "execution_count": null,
   "metadata": {},
   "outputs": [
    {
     "name": "stdout",
     "output_type": "stream",
     "text": [
      "Sum =  108.0 Difference =  -18.0 Multiply =  2835.0 divide =  0.7142857142857143 modules 45.0\n"
     ]
    }
   ],
   "source": [
    "# Program to find area of a circle using function use single return value function with\n",
    "argument.\n",
    "\n",
    "pi = 3.14\n",
    "def areaOfCircle(radius):\n",
    "    return pi * radius * radius\n",
    "\n",
    "rad = float(input(\"Enter the radius of circle\"))\n",
    "print(areaOfCircle(rad))\n",
    "\n"
   ]
  },
  {
   "cell_type": "code",
   "execution_count": 38,
   "metadata": {},
   "outputs": [
    {
     "name": "stdout",
     "output_type": "stream",
     "text": [
      "Sum =  101.0 Difference =  -11.0 Multiply =  2520.0 divide =  0.8035714285714286 modules 45.0\n"
     ]
    }
   ],
   "source": [
    "#Program to write sum different product and using arguments with return value\n",
    "# function.\n",
    "\n",
    "def calculator (num1, num2):\n",
    "    add = num1 + num2\n",
    "    sub = num1 - num2\n",
    "    mul = num1 * num2\n",
    "    div = num1 / num2\n",
    "    mod = num1 % num2\n",
    "    return add , sub, mul , div,mod\n",
    "\n",
    "n1 = float(input(\"Enter the First  Number : \"))\n",
    "n2 = float(input(\"Enter the Second Number : \"))\n",
    "\n",
    "a,s,m,d,mo = calculator(n1,n2)\n",
    "\n",
    "print(\"Sum = \",a,\"Difference = \",s , \"Multiply = \",m , \"divide = \",d , \"modules\",mo)\n",
    "\n"
   ]
  },
  {
   "cell_type": "code",
   "execution_count": 39,
   "metadata": {},
   "outputs": [
    {
     "name": "stdout",
     "output_type": "stream",
     "text": [
      "98.0\n"
     ]
    }
   ],
   "source": [
    "#program to find biggest of two numbers using functions. \n",
    "def biggest(num1,num2):\n",
    "    \n",
    "    if num1 > num2:\n",
    "        return num1\n",
    "    else:\n",
    "        return num2\n",
    "n1 = float(input(\"Enter the First  Number : \"))\n",
    "n2 = float(input(\"Enter the Second Number : \"))\n",
    "\n",
    "bigNumber = biggest(n1,n2)\n",
    "print(bigNumber)"
   ]
  },
  {
   "cell_type": "code",
   "execution_count": 40,
   "metadata": {},
   "outputs": [
    {
     "name": "stdout",
     "output_type": "stream",
     "text": [
      "89.0\n"
     ]
    }
   ],
   "source": [
    "#program to find biggest of two numbers using functions. (nested if) \n",
    "\n",
    "def biggest(num1,num2,num3):\n",
    "    if num1 > num2 :\n",
    "        if num1 > num3:\n",
    "            return num1\n",
    "        else :\n",
    "            return num3\n",
    "    else : \n",
    "        if num2 > num3:\n",
    "            return num2\n",
    "        else:\n",
    "            return num3\n",
    "\n",
    "n1 = float(input(\"Enter the First  Number : \"))\n",
    "n2 = float(input(\"Enter the Second Number : \"))\n",
    "n3 = float(input(\"Enter the Third Number : \"))\n",
    "\n",
    "bigNumber = biggest(n1,n2,n3)\n",
    "print(bigNumber)"
   ]
  },
  {
   "cell_type": "code",
   "execution_count": 42,
   "metadata": {},
   "outputs": [
    {
     "name": "stdout",
     "output_type": "stream",
     "text": [
      "Fail\n"
     ]
    }
   ],
   "source": [
    "#Writer a program to read one subject mark and print pass or fail use single return values function with argument. \n",
    "def resultChecker(a):\n",
    "    if a > 40:\n",
    "        return \"Pass\"\n",
    "    else:\n",
    "        return \"Fail\"\n",
    "    \n",
    "n1 = float(input(\"Enter the First  Number : \"))\n",
    "\n",
    "print(resultChecker(n1))"
   ]
  },
  {
   "cell_type": "code",
   "execution_count": 44,
   "metadata": {},
   "outputs": [
    {
     "name": "stdout",
     "output_type": "stream",
     "text": [
      "mrcet cse dept 0\n",
      "mrcet cse dept 1\n",
      "mrcet cse dept 2\n",
      "mrcet cse dept 3\n",
      "mrcet cse dept 4\n",
      "mrcet cse dept 5\n",
      "mrcet cse dept 6\n",
      "mrcet cse dept 7\n",
      "mrcet cse dept 8\n",
      "mrcet cse dept 9\n"
     ]
    }
   ],
   "source": [
    "#Write a program to display mrecet cse dept 10 times on the screen. (while loop) \n",
    "\n",
    "def display(): \n",
    " count =0 \n",
    " while count<10: \n",
    "  print(\"mrcet cse dept\",count) \n",
    "  count=count+1 \n",
    "display() "
   ]
  },
  {
   "cell_type": "markdown",
   "metadata": {},
   "source": [
    "## UNIT – II"
   ]
  },
  {
   "cell_type": "markdown",
   "metadata": {},
   "source": [
    "### Conditional (if):"
   ]
  },
  {
   "cell_type": "code",
   "execution_count": 1,
   "metadata": {},
   "outputs": [
    {
     "name": "stdout",
     "output_type": "stream",
     "text": [
      "3 is greater\n",
      "done\n",
      "-1 a is smaller\n",
      "Finish\n"
     ]
    }
   ],
   "source": [
    "a = 3\n",
    "if a > 2:\n",
    "    print(a, \"is greater\")\n",
    "print(\"done\")\n",
    "a = -1\n",
    "if a < 0:\n",
    "    print(a, \"a is smaller\")\n",
    "print(\"Finish\")"
   ]
  },
  {
   "cell_type": "markdown",
   "metadata": {},
   "source": [
    "### Alternative if (If-Else):"
   ]
  },
  {
   "cell_type": "code",
   "execution_count": null,
   "metadata": {},
   "outputs": [
    {
     "name": "stdout",
     "output_type": "stream",
     "text": [
      "a is smaller than the input given\n"
     ]
    }
   ],
   "source": [
    "a=int(input('enter the number'))\n",
    "if a>5:\n",
    "  print(\"a is greater\")\n",
    "else:\n",
    "   print(\"a is smaller than the input given\")\n",
    "   \n",
    "   \n"
   ]
  },
  {
   "cell_type": "code",
   "execution_count": 3,
   "metadata": {},
   "outputs": [
    {
     "name": "stdout",
     "output_type": "stream",
     "text": [
      "B is Greater than A\n"
     ]
    }
   ],
   "source": [
    "a=10\n",
    "b=20\n",
    "if a>b:\n",
    "    print(\"A is Greater than B\")\n",
    "else:\n",
    "    print(\"B is Greater than A\")"
   ]
  },
  {
   "cell_type": "markdown",
   "metadata": {},
   "source": [
    "### Chained Conditional: (If-elif-else):"
   ]
  },
  {
   "cell_type": "code",
   "execution_count": 4,
   "metadata": {},
   "outputs": [
    {
     "name": "stdout",
     "output_type": "stream",
     "text": [
      "c is greater\n"
     ]
    }
   ],
   "source": [
    "a=int(input('enter the number'))\n",
    "b=int(input('enter the number'))\n",
    "c=int(input('enter the number'))\n",
    "if a>b:\n",
    "    print(\"a is greater\")\n",
    "elif b>c:\n",
    "    print(\"b is greater\")\n",
    "else:\n",
    "    print(\"c is greater\")"
   ]
  },
  {
   "cell_type": "code",
   "execution_count": 5,
   "metadata": {},
   "outputs": [
    {
     "name": "stdout",
     "output_type": "stream",
     "text": [
      "3 - Got a true expression value\n",
      "100\n",
      "Good bye!\n"
     ]
    }
   ],
   "source": [
    "var = 100\n",
    "if var == 200:\n",
    "    print(\"1 - Got a true expression value\")\n",
    "    print(var)\n",
    "elif var == 150:\n",
    "    print(\"2 - Got a true expression value\")\n",
    "    print(var)\n",
    "elif var == 100:\n",
    "    print(\"3 - Got a true expression value\")\n",
    "    print(var)\n",
    "else:\n",
    "    print(\"4 - Got a false expression value\")\n",
    "    print(var)\n",
    "print(\"Good bye!\")  "
   ]
  },
  {
   "cell_type": "markdown",
   "metadata": {},
   "source": [
    "### Statements:\n",
    "In Python Iteration (Loops) statements are of three types:\n",
    "1. While Loop\n",
    "2. For Loop\n",
    "3. Nested For Loops"
   ]
  },
  {
   "cell_type": "markdown",
   "metadata": {},
   "source": [
    "## While Loop"
   ]
  },
  {
   "cell_type": "code",
   "execution_count": 8,
   "metadata": {},
   "outputs": [
    {
     "name": "stdout",
     "output_type": "stream",
     "text": [
      "Government College Jinnah\n",
      "Government College Jinnah\n",
      "Government College Jinnah\n",
      "Government College Jinnah\n",
      "Government College Jinnah\n",
      "Government College Jinnah\n"
     ]
    }
   ],
   "source": [
    "i=1\n",
    "while i<=6:\n",
    "    print(\"Government College Jinnah\")\n",
    "    i=i+1"
   ]
  },
  {
   "cell_type": "code",
   "execution_count": 9,
   "metadata": {},
   "outputs": [
    {
     "name": "stdout",
     "output_type": "stream",
     "text": [
      "MRCET CSE DEPT\n",
      "MRCET CSE DEPT\n",
      "MRCET CSE DEPT\n"
     ]
    }
   ],
   "source": [
    "i=1\n",
    "while i<=3:\n",
    "   print(\"MRCET\",end=\" \")\n",
    "   j=1\n",
    "   while j<=1:\n",
    "     print(\"CSE DEPT\",end=\"\")\n",
    "     j=j+1\n",
    "   i=i+1\n",
    "   print()"
   ]
  },
  {
   "cell_type": "code",
   "execution_count": 13,
   "metadata": {},
   "outputs": [
    {
     "name": "stdout",
     "output_type": "stream",
     "text": [
      "MRCET CSE DEPT\n",
      "MRCET \n",
      "MRCET \n"
     ]
    }
   ],
   "source": [
    "i=1\n",
    "j=1\n",
    "while i<=3:\n",
    "  print(\"MRCET\",end=\" \")\n",
    "  while j<=1:\n",
    "   print(\"CSE DEPT\",end=\"\")\n",
    "   j=j+1\n",
    "  i=i+1\n",
    "  print()"
   ]
  },
  {
   "cell_type": "code",
   "execution_count": 15,
   "metadata": {},
   "outputs": [
    {
     "name": "stdout",
     "output_type": "stream",
     "text": [
      "1\n",
      "2\n",
      "3\n",
      "4\n",
      "5\n",
      "6\n",
      "7\n",
      "8\n",
      "9\n"
     ]
    }
   ],
   "source": [
    "i = 1\n",
    "while (i < 10):\n",
    "  print (i)\n",
    "  i = i+1\n"
   ]
  },
  {
   "cell_type": "code",
   "execution_count": 16,
   "metadata": {},
   "outputs": [
    {
     "name": "stdout",
     "output_type": "stream",
     "text": [
      "Iteration 1\n",
      "Iteration 2\n",
      "Iteration 3\n",
      "While loop terminated\n"
     ]
    }
   ],
   "source": [
    "a = 1\n",
    "b = 1\n",
    "while (a<10):\n",
    "   print ('Iteration',a)\n",
    "   a = a + 1\n",
    "   b = b + 1\n",
    "   if (b == 4):\n",
    "      break\n",
    "print ('While loop terminated')"
   ]
  },
  {
   "cell_type": "code",
   "execution_count": 18,
   "metadata": {},
   "outputs": [
    {
     "name": "stdout",
     "output_type": "stream",
     "text": [
      "The count is: 0\n",
      "The count is: 1\n",
      "The count is: 2\n",
      "The count is: 3\n",
      "The count is: 4\n",
      "The count is: 5\n",
      "The count is: 6\n",
      "The count is: 7\n",
      "The count is: 8\n",
      "Good bye!\n"
     ]
    }
   ],
   "source": [
    "count = 0\n",
    "while (count < 9):\n",
    "    print(\"The count is:\", count)\n",
    "    count = count + 1\n",
    "print(\"Good bye!\")"
   ]
  },
  {
   "cell_type": "markdown",
   "metadata": {},
   "source": [
    "## For Loop"
   ]
  },
  {
   "cell_type": "code",
   "execution_count": 20,
   "metadata": {},
   "outputs": [
    {
     "name": "stdout",
     "output_type": "stream",
     "text": [
      "1\n",
      "4\n",
      "16\n",
      "36\n",
      "121\n",
      "400\n"
     ]
    }
   ],
   "source": [
    "numbers = [1, 2, 4, 6, 11, 20]\n",
    "seq=0\n",
    "for val in numbers:\n",
    "  seq=val*val\n",
    "  print(seq)"
   ]
  },
  {
   "cell_type": "code",
   "execution_count": 22,
   "metadata": {},
   "outputs": [
    {
     "name": "stdout",
     "output_type": "stream",
     "text": [
      "college  1  is  J\n",
      "college  2  is  I\n",
      "college  3  is  N\n",
      "college  4  is  N\n",
      "college  5  is  A\n",
      "college  6  is  H\n"
     ]
    }
   ],
   "source": [
    "# Iterating over a list:\n",
    "#list of items\n",
    "list = ['J','I','N','N','A','H']\n",
    "i = 1\n",
    "#Iterating over the list\n",
    "for item in list:\n",
    "    print ('college ',i,' is ',item)\n",
    "    i = i+1"
   ]
  },
  {
   "cell_type": "code",
   "execution_count": 23,
   "metadata": {},
   "outputs": [
    {
     "name": "stdout",
     "output_type": "stream",
     "text": [
      "These are the first four prime numbers \n",
      "2\n",
      "3\n",
      "5\n",
      "7\n"
     ]
    }
   ],
   "source": [
    "tuple = (2,3,5,7)\n",
    "print ('These are the first four prime numbers ')\n",
    "#Iterating over the tuple\n",
    "for a in tuple:\n",
    "   print (a)"
   ]
  },
  {
   "cell_type": "code",
   "execution_count": 25,
   "metadata": {},
   "outputs": [
    {
     "name": "stdout",
     "output_type": "stream",
     "text": [
      "Keys are:\n",
      "ces\n",
      "it\n",
      "ece\n",
      "Values are:\n",
      "block1\n",
      "block2\n",
      "block3\n"
     ]
    }
   ],
   "source": [
    "# Iterating over a dictionary:\n",
    "#creating a dictionary\n",
    "college = {\"ces\":\"block1\",\"it\":\"block2\",\"ece\":\"block3\"}\n",
    "#Iterating over the dictionary to print keys\n",
    "print ('Keys are:')\n",
    "for keys in college:\n",
    "    print (keys)\n",
    "    \n",
    "    \n",
    "print ('Values are:')\n",
    "for blocks in college.values():\n",
    "    print(blocks)"
   ]
  },
  {
   "cell_type": "code",
   "execution_count": 26,
   "metadata": {},
   "outputs": [
    {
     "name": "stdout",
     "output_type": "stream",
     "text": [
      "M\n",
      "R\n",
      "C\n",
      "E\n",
      "T\n"
     ]
    }
   ],
   "source": [
    "# Iterating over a String:\n",
    "#declare a string to iterate over\n",
    "college = 'MRCET'\n",
    "#Iterating over the string\n",
    "for name in college:\n",
    "    print (name)"
   ]
  },
  {
   "cell_type": "markdown",
   "metadata": {},
   "source": [
    "## Nested For loop:"
   ]
  },
  {
   "cell_type": "code",
   "execution_count": 28,
   "metadata": {},
   "outputs": [
    {
     "name": "stdout",
     "output_type": "stream",
     "text": [
      "1 \n",
      "2 2 \n",
      "3 3 3 \n",
      "4 4 4 4 \n",
      "5 5 5 5 5 \n"
     ]
    }
   ],
   "source": [
    "for i in range(1,6):\n",
    "    for j in range(0,i):\n",
    "        print(i, end=\" \")\n",
    "    print('')"
   ]
  },
  {
   "cell_type": "code",
   "execution_count": 30,
   "metadata": {},
   "outputs": [
    {
     "name": "stdout",
     "output_type": "stream",
     "text": [
      "1 1 1 1 1 \n",
      "2 2 2 2 \n",
      "3 3 3 \n",
      "4 4 \n",
      "5 \n"
     ]
    }
   ],
   "source": [
    "for i in range(1,6):\n",
    "    for j in range(5,i-1,-1):\n",
    "        print(i, end=\" \")\n",
    "    print('')"
   ]
  },
  {
   "cell_type": "markdown",
   "metadata": {},
   "source": [
    "## Break:"
   ]
  },
  {
   "cell_type": "code",
   "execution_count": 34,
   "metadata": {},
   "outputs": [
    {
     "name": "stdout",
     "output_type": "stream",
     "text": [
      "J\n",
      "I\n",
      "N\n",
      "N\n",
      "A\n",
      "H\n",
      "The end\n"
     ]
    }
   ],
   "source": [
    "for val in \"JINNAH COLLEGE\":\n",
    "     if val == \" \":\n",
    "        break\n",
    "     print(val)\n",
    "print(\"The end\")"
   ]
  },
  {
   "cell_type": "code",
   "execution_count": 35,
   "metadata": {},
   "outputs": [
    {
     "name": "stdout",
     "output_type": "stream",
     "text": [
      "11\n",
      "9\n",
      "88\n",
      "The number 88 is found\n",
      "Terminating the loop\n"
     ]
    }
   ],
   "source": [
    "for num in [11, 9, 88, 10, 90, 3, 19]:\n",
    "   print(num)\n",
    "   if(num==88):\n",
    "      print(\"The number 88 is found\")\n",
    "      print(\"Terminating the loop\")\n",
    "      break"
   ]
  },
  {
   "cell_type": "code",
   "execution_count": 37,
   "metadata": {},
   "outputs": [
    {
     "name": "stdout",
     "output_type": "stream",
     "text": [
      "Current Letter : P\n",
      "Current Letter : y\n",
      "Current Letter : t\n"
     ]
    }
   ],
   "source": [
    "for letter in \"Python\": # First Example\n",
    "    if letter == \"h\":\n",
    "        break\n",
    "    print(\"Current Letter :\", letter )"
   ]
  },
  {
   "cell_type": "markdown",
   "metadata": {},
   "source": [
    "## Continue:"
   ]
  },
  {
   "cell_type": "code",
   "execution_count": 39,
   "metadata": {},
   "outputs": [
    {
     "name": "stdout",
     "output_type": "stream",
     "text": [
      "s\n",
      "t\n",
      "r\n",
      "n\n",
      "g\n",
      "The end\n"
     ]
    }
   ],
   "source": [
    "for val in \"string\":\n",
    "    if val == \"i\":\n",
    "     continue\n",
    "    print(val)\n",
    "print(\"The end\")\n"
   ]
  },
  {
   "cell_type": "code",
   "execution_count": 41,
   "metadata": {},
   "outputs": [
    {
     "name": "stdout",
     "output_type": "stream",
     "text": [
      "11\n",
      "9\n",
      "89\n"
     ]
    }
   ],
   "source": [
    "for num in [20, 11, 9, 66, 4, 89, 44]:\n",
    "\n",
    "# Skipping the iteration when number is even\n",
    "    if num%2 == 0:\n",
    "        continue\n",
    "# This statement will be skipped for all even numbers\n",
    "    print(num)"
   ]
  },
  {
   "cell_type": "code",
   "execution_count": 42,
   "metadata": {},
   "outputs": [
    {
     "name": "stdout",
     "output_type": "stream",
     "text": [
      "Current Letter : P\n",
      "Current Letter : y\n",
      "Current Letter : t\n",
      "Current Letter : o\n",
      "Current Letter : n\n"
     ]
    }
   ],
   "source": [
    "for letter in \"Python\": # First Example\n",
    "    if letter == \"h\":\n",
    "        continue\n",
    "    print(\"Current Letter :\", letter)\n"
   ]
  },
  {
   "cell_type": "code",
   "execution_count": null,
   "metadata": {},
   "outputs": [],
   "source": []
  }
 ],
 "metadata": {
  "kernelspec": {
   "display_name": "Python 3",
   "language": "python",
   "name": "python3"
  },
  "language_info": {
   "codemirror_mode": {
    "name": "ipython",
    "version": 3
   },
   "file_extension": ".py",
   "mimetype": "text/x-python",
   "name": "python",
   "nbconvert_exporter": "python",
   "pygments_lexer": "ipython3",
   "version": "3.13.1"
  }
 },
 "nbformat": 4,
 "nbformat_minor": 2
}
