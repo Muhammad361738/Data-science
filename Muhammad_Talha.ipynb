{
 "cells": [
  {
   "cell_type": "markdown",
   "metadata": {},
   "source": [
    "## UNIT – I \n",
    "# INTRODUCTION DATA, EXPRESSIONS, STATEMENTS "
   ]
  },
  {
   "cell_type": "code",
   "execution_count": 1,
   "metadata": {},
   "outputs": [
    {
     "name": "stdout",
     "output_type": "stream",
     "text": [
      "Hello World \n"
     ]
    }
   ],
   "source": [
    "print(\"Hello World \")"
   ]
  },
  {
   "cell_type": "markdown",
   "metadata": {},
   "source": [
    "# Data types: \n",
    "Int: \n"
   ]
  },
  {
   "cell_type": "code",
   "execution_count": 8,
   "metadata": {},
   "outputs": [
    {
     "name": "stdout",
     "output_type": "stream",
     "text": [
      "24656354687656\n",
      "30\n",
      "2\n",
      "2\n",
      "32\n",
      "10\n",
      "<class 'int'>\n"
     ]
    }
   ],
   "source": [
    "print(24656354687654+2) \n",
    "print (30)\n",
    "print (0b10)\n",
    "print(0B10)\n",
    "print(0X20)\n",
    " \n",
    "a = 10\n",
    "print (a)\n",
    "\n",
    "# To verify the type of any object in Python, use the type() function: \n",
    "print(type(a))"
   ]
  },
  {
   "cell_type": "markdown",
   "metadata": {},
   "source": [
    "# Float: \n",
    "Float, or \"floating point number\" is a number, positive or negative, containing one or more  decimals.\n",
    "\n"
   ]
  },
  {
   "cell_type": "code",
   "execution_count": null,
   "metadata": {},
   "outputs": [
    {
     "name": "stdout",
     "output_type": "stream",
     "text": [
      "2.8\n",
      "<class 'float'>\n",
      "<class 'float'>\n",
      "<class 'float'>\n",
      "<class 'float'>\n"
     ]
    }
   ],
   "source": [
    "y = 2.8\n",
    "print(y)\n",
    "print(type(y))\n",
    "\n",
    "x = 35e3  \n",
    "y = 12E4 \n",
    "z = -87.7e100 \n",
    "print(type(x)) \n",
    "print(type(y)) \n",
    "print(type(z)) \n"
   ]
  },
  {
   "cell_type": "markdown",
   "metadata": {},
   "source": [
    "# Boolean: \n",
    "Objects of Boolean type may have one of two values, True or False: \n"
   ]
  },
  {
   "cell_type": "code",
   "execution_count": 12,
   "metadata": {},
   "outputs": [
    {
     "name": "stdout",
     "output_type": "stream",
     "text": [
      "<class 'bool'>\n",
      "<class 'bool'>\n"
     ]
    }
   ],
   "source": [
    "print(type(True))\n",
    "print(type(False))\n"
   ]
  },
  {
   "cell_type": "markdown",
   "metadata": {},
   "source": [
    "# String: \n"
   ]
  },
  {
   "cell_type": "code",
   "execution_count": 25,
   "metadata": {},
   "outputs": [
    {
     "name": "stdout",
     "output_type": "stream",
     "text": [
      "Muhammad Talha\n",
      "<class 'str'>\n",
      "Government college Formen is an autonomous (') college\n",
      "Government college Formen is an autonomous (\") college\n",
      "Government college Formen is an autonomous (') college\n",
      "Government college Formen is an autonomous \" college\n",
      "a \n",
      "b\n",
      "Formen \n",
      "college\n"
     ]
    }
   ],
   "source": [
    "print(\"Muhammad Talha\")\n",
    "print(type(\"Muhammad Talha\"))\n",
    "\n",
    "print(\"Government college Formen is an autonomous (') college\")\n",
    "print('Government college Formen is an autonomous (\") college') \n",
    "\n",
    "print(\"Government college Formen is an autonomous (\\') college\") \n",
    "print(\"Government college Formen is an autonomous \\\" college\") \n",
    "\n",
    "print('a \\nb')\n",
    "\n",
    "print(\"Formen \\ncollege\") \n",
    "\n"
   ]
  },
  {
   "cell_type": "markdown",
   "metadata": {},
   "source": [
    "## List: \n"
   ]
  },
  {
   "cell_type": "code",
   "execution_count": 30,
   "metadata": {},
   "outputs": [
    {
     "name": "stdout",
     "output_type": "stream",
     "text": [
      "[1, 2, 3, 'A', 'B', 7, 8, [10, 'Talha']]\n",
      "[]\n",
      "['Talha', 123, True]\n",
      "<class 'list'>\n"
     ]
    }
   ],
   "source": [
    "mylist = [1,2,3,'A','B',7,8,[10,\"Talha\"]] \n",
    "print(mylist)\n",
    "\n",
    "#  another way to initialize list \n",
    "y = list()\n",
    "print(y)\n",
    "#  Change another data type into list \n",
    "\n",
    "myTup = (\"Talha\",123,True)\n",
    "mylist2 = list(myTup)\n",
    "print(mylist2)\n",
    "print(type(mylist2))\n"
   ]
  },
  {
   "cell_type": "markdown",
   "metadata": {},
   "source": [
    "## Variables: \n",
    "Variables are nothing but reserved memory locations to store values. This means that when you create a variable you reserve some space in memory. \n"
   ]
  },
  {
   "cell_type": "code",
   "execution_count": 4,
   "metadata": {},
   "outputs": [
    {
     "name": "stdout",
     "output_type": "stream",
     "text": [
      "500\n",
      "8700.0\n",
      "Talha\n",
      "Talha Talha Talha\n",
      "1 2 Formen College \n",
      "Formen \n",
      "Peoples Information Technology Program\n",
      "Technology ProgramPeoples Information \n"
     ]
    }
   ],
   "source": [
    "a= 500 # An integer assignment \n",
    "b = 8700.0 # A floating point \n",
    "c = \"Talha\" # A string \n",
    "print (a) \n",
    "print (b) \n",
    "print (c) \n",
    "#  Multiple Assignment: \n",
    "\n",
    "x = y = z = \"Talha\"\n",
    "print(x,y,z)\n",
    "\n",
    "a,b,c = 1,2,\"Formen College \" \n",
    "print(a,b,c)\n",
    "\n",
    "x =10# x is of type int \n",
    "x = \"Formen \"\n",
    "print(x) \n",
    "# To combine both text and a variable, Python uses the “+” character: \n",
    "x = \"Technology Program\" \n",
    "print(\"Peoples Information \" +  x) \n",
    "\n",
    "x = \"Technology Program\" \n",
    "y =  \"Peoples Information \"\n",
    "z = x + y \n",
    "print(z) \n",
    "\n",
    "\n",
    "\n"
   ]
  },
  {
   "cell_type": "markdown",
   "metadata": {},
   "source": [
    "## Expressions: \n",
    "An expression is a combination of values, variables, and operators. An expression is evaluated using assignment operator.\n",
    "\n"
   ]
  },
  {
   "cell_type": "code",
   "execution_count": null,
   "metadata": {},
   "outputs": [
    {
     "name": "stdout",
     "output_type": "stream",
     "text": [
      "30\n"
     ]
    }
   ],
   "source": [
    "x=10 \n",
    "Y=x + 17 \n",
    "z=x+20 \n",
    "print(z) \n",
    "\n"
   ]
  },
  {
   "cell_type": "markdown",
   "metadata": {},
   "source": [
    "## Precedence of Operators: \n"
   ]
  },
  {
   "cell_type": "code",
   "execution_count": 8,
   "metadata": {},
   "outputs": [
    {
     "name": "stdout",
     "output_type": "stream",
     "text": [
      "Value of (a + b) * c / d is  90.0\n",
      "Value of ((a + b) * c) / d is  90.0\n",
      "Value of (a + b) * (c / d) is  90.0\n",
      "Value of a + (b * c) / d is  50.0\n"
     ]
    }
   ],
   "source": [
    "a = 20 \n",
    "b = 10 \n",
    "c = 15 \n",
    "d = 5 \n",
    "e = 0 \n",
    "e = (a + b) * c / d #( 30 * 15 ) / 5 \n",
    "print(\"Value of (a + b) * c / d is \", e) \n",
    "e = ((a + b) * c) / d # (30 * 15 ) / 5 \n",
    "print(\"Value of ((a + b) * c) / d is \", e) \n",
    "e = (a + b) * (c / d); # (30) * (15/5)\n",
    "\n",
    "print(\"Value of (a + b) * (c / d) is \", e) \n",
    "e = a + (b * c) / d; # 20 + (150/5) \n",
    "print(\"Value of a + (b * c) / d is \", e) \n",
    "\n"
   ]
  },
  {
   "cell_type": "markdown",
   "metadata": {},
   "source": [
    "## Modules: "
   ]
  },
  {
   "cell_type": "code",
   "execution_count": 14,
   "metadata": {},
   "outputs": [
    {
     "name": "stdout",
     "output_type": "stream",
     "text": [
      "3.13.1 (tags/v3.13.1:0671451, Dec  3 2024, 19:06:28) [MSC v.1942 64 bit (AMD64)]\n",
      "      May 2021\n",
      "Mo Tu We Th Fr Sa Su\n",
      "                1  2\n",
      " 3  4  5  6  7  8  9\n",
      "10 11 12 13 14 15 16\n",
      "17 18 19 20 21 22 23\n",
      "24 25 26 27 28 29 30\n",
      "31\n",
      "\n",
      "True\n",
      "False\n"
     ]
    }
   ],
   "source": [
    "import calendar\n",
    "import sys \n",
    "print(sys.version) \n",
    "\n",
    "print(calendar.month(2021,5)) \n",
    "\n",
    "print(calendar.isleap(2000)) \n",
    " \n",
    "print(calendar.isleap(2014)) \n",
    "\n",
    "\n",
    "\n"
   ]
  },
  {
   "cell_type": "markdown",
   "metadata": {},
   "source": [
    "## Functions: \n",
    "### 1. Built-in functions - Functions that are built into Python. \n",
    "### 2. User-defined functions - Functions defined by the users themselves. \n"
   ]
  },
  {
   "cell_type": "code",
   "execution_count": 16,
   "metadata": {},
   "outputs": [
    {
     "name": "stdout",
     "output_type": "stream",
     "text": [
      "Absolute value of -20 is: 20\n",
      "The sum is 25\n"
     ]
    }
   ],
   "source": [
    "# Ex: abs(),all().ascii(),bool()………so on…. \n",
    "integer = -20 \n",
    "print('Absolute value of -20 is:', abs(integer)) \n",
    "\n",
    "def add_numbers(x,y): \n",
    " sum = x + y \n",
    " return sum \n",
    "print(\"The sum is\", add_numbers(5, 20)) \n",
    "\n"
   ]
  },
  {
   "cell_type": "markdown",
   "metadata": {},
   "source": [
    "## Flow of Execution: "
   ]
  },
  {
   "cell_type": "code",
   "execution_count": 17,
   "metadata": {},
   "outputs": [
    {
     "name": "stdout",
     "output_type": "stream",
     "text": [
      "welcome\n",
      "0\n",
      "1\n",
      "2\n",
      "Good morning Talha\n"
     ]
    }
   ],
   "source": [
    "print(\"welcome\") \n",
    "for x in range(3): \n",
    " print(x) \n",
    "print(\"Good morning Talha\") \n"
   ]
  },
  {
   "cell_type": "markdown",
   "metadata": {},
   "source": [
    "## Parameters and arguments:"
   ]
  },
  {
   "cell_type": "code",
   "execution_count": 28,
   "metadata": {},
   "outputs": [
    {
     "name": "stdout",
     "output_type": "stream",
     "text": [
      "60\n",
      "(15, 5)\n",
      "HELLOCOLLEGE\n",
      "mrcet\n",
      "a is 3 and b is 7 and c is 10\n",
      "a is 25 and b is 5 and c is 24\n",
      "a is 100 and b is 5 and c is 50\n",
      "ZAIN and TALHA are friends\n",
      "Hello Talha\n",
      "Hello Zain\n",
      "Hello Waqar\n",
      "Hello Salman\n"
     ]
    }
   ],
   "source": [
    "def add (num1, num2):\n",
    "    return num1 + num2\n",
    "result = add(15,45)\n",
    "print(result)\n",
    "\n",
    "\n",
    "def add_sub(x,y):\n",
    "    c=x+y\n",
    "    d=x-y\n",
    "    return c,d\n",
    "print(add_sub(10,5))\n",
    "\n",
    "def hello_f():\n",
    "    return \"hellocollege\"\n",
    "print(hello_f().upper())\n",
    "\n",
    "# Passing Arguments\n",
    "def hello(wish):\n",
    "    return '{}'.format(wish)\n",
    "print(hello(\"mrcet\"))\n",
    "\n",
    "\n",
    "# Key words Arguments \n",
    "def func(a, b=5, c=10): \n",
    "    print ('a is', a, 'and b is', b, 'and c is', c)\n",
    "27 \n",
    "func(3, 7) \n",
    "func(25, c=24) \n",
    "func(c=50, a=100)\n",
    "\n",
    "def print_name(name1, name2): \n",
    " \"\"\" This function prints the name \"\"\" \n",
    " print (name1 + \" and \" + name2 + \" are friends\") \n",
    "#calling the function \n",
    "print_name(name2 = 'TALHA',name1 = 'ZAIN')\n",
    "\n",
    "def wish(*names): \n",
    " \"\"\"This function greets all \n",
    " the person in the names tuple.\"\"\" \n",
    " # names is a tuple with arguments \n",
    " for name in names: \n",
    "   print(\"Hello\",name) \n",
    "wish(\"Talha\",\"Zain\",\"Waqar\",\"Salman\")\n",
    "\n",
    "\n",
    "\n"
   ]
  },
  {
   "cell_type": "markdown",
   "metadata": {},
   "source": [
    "## Practice Question At the End Of chapter 1"
   ]
  },
  {
   "cell_type": "code",
   "execution_count": null,
   "metadata": {},
   "outputs": [
    {
     "name": "stdout",
     "output_type": "stream",
     "text": [
      "Sum =  108.0 Difference =  -18.0 Multiply =  2835.0 divide =  0.7142857142857143 modules 45.0\n"
     ]
    }
   ],
   "source": [
    "# Program to find area of a circle using function use single return value function with\n",
    "argument.\n",
    "\n",
    "pi = 3.14\n",
    "def areaOfCircle(radius):\n",
    "    return pi * radius * radius\n",
    "\n",
    "rad = float(input(\"Enter the radius of circle\"))\n",
    "print(areaOfCircle(rad))\n",
    "\n"
   ]
  },
  {
   "cell_type": "code",
   "execution_count": 38,
   "metadata": {},
   "outputs": [
    {
     "name": "stdout",
     "output_type": "stream",
     "text": [
      "Sum =  101.0 Difference =  -11.0 Multiply =  2520.0 divide =  0.8035714285714286 modules 45.0\n"
     ]
    }
   ],
   "source": [
    "#Program to write sum different product and using arguments with return value\n",
    "# function.\n",
    "\n",
    "def calculator (num1, num2):\n",
    "    add = num1 + num2\n",
    "    sub = num1 - num2\n",
    "    mul = num1 * num2\n",
    "    div = num1 / num2\n",
    "    mod = num1 % num2\n",
    "    return add , sub, mul , div,mod\n",
    "\n",
    "n1 = float(input(\"Enter the First  Number : \"))\n",
    "n2 = float(input(\"Enter the Second Number : \"))\n",
    "\n",
    "a,s,m,d,mo = calculator(n1,n2)\n",
    "\n",
    "print(\"Sum = \",a,\"Difference = \",s , \"Multiply = \",m , \"divide = \",d , \"modules\",mo)\n",
    "\n"
   ]
  },
  {
   "cell_type": "code",
   "execution_count": 39,
   "metadata": {},
   "outputs": [
    {
     "name": "stdout",
     "output_type": "stream",
     "text": [
      "98.0\n"
     ]
    }
   ],
   "source": [
    "#program to find biggest of two numbers using functions. \n",
    "def biggest(num1,num2):\n",
    "    \n",
    "    if num1 > num2:\n",
    "        return num1\n",
    "    else:\n",
    "        return num2\n",
    "n1 = float(input(\"Enter the First  Number : \"))\n",
    "n2 = float(input(\"Enter the Second Number : \"))\n",
    "\n",
    "bigNumber = biggest(n1,n2)\n",
    "print(bigNumber)"
   ]
  },
  {
   "cell_type": "code",
   "execution_count": 40,
   "metadata": {},
   "outputs": [
    {
     "name": "stdout",
     "output_type": "stream",
     "text": [
      "89.0\n"
     ]
    }
   ],
   "source": [
    "#program to find biggest of two numbers using functions. (nested if) \n",
    "\n",
    "def biggest(num1,num2,num3):\n",
    "    if num1 > num2 :\n",
    "        if num1 > num3:\n",
    "            return num1\n",
    "        else :\n",
    "            return num3\n",
    "    else : \n",
    "        if num2 > num3:\n",
    "            return num2\n",
    "        else:\n",
    "            return num3\n",
    "\n",
    "n1 = float(input(\"Enter the First  Number : \"))\n",
    "n2 = float(input(\"Enter the Second Number : \"))\n",
    "n3 = float(input(\"Enter the Third Number : \"))\n",
    "\n",
    "bigNumber = biggest(n1,n2,n3)\n",
    "print(bigNumber)"
   ]
  },
  {
   "cell_type": "code",
   "execution_count": 42,
   "metadata": {},
   "outputs": [
    {
     "name": "stdout",
     "output_type": "stream",
     "text": [
      "Fail\n"
     ]
    }
   ],
   "source": [
    "#Writer a program to read one subject mark and print pass or fail use single return values function with argument. \n",
    "def resultChecker(a):\n",
    "    if a > 40:\n",
    "        return \"Pass\"\n",
    "    else:\n",
    "        return \"Fail\"\n",
    "    \n",
    "n1 = float(input(\"Enter the First  Number : \"))\n",
    "\n",
    "print(resultChecker(n1))"
   ]
  },
  {
   "cell_type": "code",
   "execution_count": 44,
   "metadata": {},
   "outputs": [
    {
     "name": "stdout",
     "output_type": "stream",
     "text": [
      "mrcet cse dept 0\n",
      "mrcet cse dept 1\n",
      "mrcet cse dept 2\n",
      "mrcet cse dept 3\n",
      "mrcet cse dept 4\n",
      "mrcet cse dept 5\n",
      "mrcet cse dept 6\n",
      "mrcet cse dept 7\n",
      "mrcet cse dept 8\n",
      "mrcet cse dept 9\n"
     ]
    }
   ],
   "source": [
    "#Write a program to display mrecet cse dept 10 times on the screen. (while loop) \n",
    "\n",
    "def display(): \n",
    " count =0 \n",
    " while count<10: \n",
    "  print(\"mrcet cse dept\",count) \n",
    "  count=count+1 \n",
    "display() "
   ]
  },
  {
   "cell_type": "markdown",
   "metadata": {},
   "source": [
    "## UNIT – II"
   ]
  },
  {
   "cell_type": "markdown",
   "metadata": {},
   "source": [
    "### Conditional (if):"
   ]
  },
  {
   "cell_type": "code",
   "execution_count": 1,
   "metadata": {},
   "outputs": [
    {
     "name": "stdout",
     "output_type": "stream",
     "text": [
      "3 is greater\n",
      "done\n",
      "-1 a is smaller\n",
      "Finish\n"
     ]
    }
   ],
   "source": [
    "a = 3\n",
    "if a > 2:\n",
    "    print(a, \"is greater\")\n",
    "print(\"done\")\n",
    "a = -1\n",
    "if a < 0:\n",
    "    print(a, \"a is smaller\")\n",
    "print(\"Finish\")"
   ]
  },
  {
   "cell_type": "markdown",
   "metadata": {},
   "source": [
    "### Alternative if (If-Else):"
   ]
  },
  {
   "cell_type": "code",
   "execution_count": null,
   "metadata": {},
   "outputs": [
    {
     "name": "stdout",
     "output_type": "stream",
     "text": [
      "a is smaller than the input given\n"
     ]
    }
   ],
   "source": [
    "a=int(input('enter the number'))\n",
    "if a>5:\n",
    "  print(\"a is greater\")\n",
    "else:\n",
    "   print(\"a is smaller than the input given\")\n",
    "   \n",
    "   \n"
   ]
  },
  {
   "cell_type": "code",
   "execution_count": 3,
   "metadata": {},
   "outputs": [
    {
     "name": "stdout",
     "output_type": "stream",
     "text": [
      "B is Greater than A\n"
     ]
    }
   ],
   "source": [
    "a=10\n",
    "b=20\n",
    "if a>b:\n",
    "    print(\"A is Greater than B\")\n",
    "else:\n",
    "    print(\"B is Greater than A\")"
   ]
  },
  {
   "cell_type": "markdown",
   "metadata": {},
   "source": [
    "### Chained Conditional: (If-elif-else):"
   ]
  },
  {
   "cell_type": "code",
   "execution_count": 4,
   "metadata": {},
   "outputs": [
    {
     "name": "stdout",
     "output_type": "stream",
     "text": [
      "c is greater\n"
     ]
    }
   ],
   "source": [
    "a=int(input('enter the number'))\n",
    "b=int(input('enter the number'))\n",
    "c=int(input('enter the number'))\n",
    "if a>b:\n",
    "    print(\"a is greater\")\n",
    "elif b>c:\n",
    "    print(\"b is greater\")\n",
    "else:\n",
    "    print(\"c is greater\")"
   ]
  },
  {
   "cell_type": "code",
   "execution_count": 5,
   "metadata": {},
   "outputs": [
    {
     "name": "stdout",
     "output_type": "stream",
     "text": [
      "3 - Got a true expression value\n",
      "100\n",
      "Good bye!\n"
     ]
    }
   ],
   "source": [
    "var = 100\n",
    "if var == 200:\n",
    "    print(\"1 - Got a true expression value\")\n",
    "    print(var)\n",
    "elif var == 150:\n",
    "    print(\"2 - Got a true expression value\")\n",
    "    print(var)\n",
    "elif var == 100:\n",
    "    print(\"3 - Got a true expression value\")\n",
    "    print(var)\n",
    "else:\n",
    "    print(\"4 - Got a false expression value\")\n",
    "    print(var)\n",
    "print(\"Good bye!\")  "
   ]
  },
  {
   "cell_type": "markdown",
   "metadata": {},
   "source": [
    "### Statements:\n",
    "In Python Iteration (Loops) statements are of three types:\n",
    "1. While Loop\n",
    "2. For Loop\n",
    "3. Nested For Loops"
   ]
  },
  {
   "cell_type": "markdown",
   "metadata": {},
   "source": [
    "## While Loop"
   ]
  },
  {
   "cell_type": "code",
   "execution_count": 8,
   "metadata": {},
   "outputs": [
    {
     "name": "stdout",
     "output_type": "stream",
     "text": [
      "Government College Jinnah\n",
      "Government College Jinnah\n",
      "Government College Jinnah\n",
      "Government College Jinnah\n",
      "Government College Jinnah\n",
      "Government College Jinnah\n"
     ]
    }
   ],
   "source": [
    "i=1\n",
    "while i<=6:\n",
    "    print(\"Government College Jinnah\")\n",
    "    i=i+1"
   ]
  },
  {
   "cell_type": "code",
   "execution_count": 9,
   "metadata": {},
   "outputs": [
    {
     "name": "stdout",
     "output_type": "stream",
     "text": [
      "MRCET CSE DEPT\n",
      "MRCET CSE DEPT\n",
      "MRCET CSE DEPT\n"
     ]
    }
   ],
   "source": [
    "i=1\n",
    "while i<=3:\n",
    "   print(\"MRCET\",end=\" \")\n",
    "   j=1\n",
    "   while j<=1:\n",
    "     print(\"CSE DEPT\",end=\"\")\n",
    "     j=j+1\n",
    "   i=i+1\n",
    "   print()"
   ]
  },
  {
   "cell_type": "code",
   "execution_count": 13,
   "metadata": {},
   "outputs": [
    {
     "name": "stdout",
     "output_type": "stream",
     "text": [
      "MRCET CSE DEPT\n",
      "MRCET \n",
      "MRCET \n"
     ]
    }
   ],
   "source": [
    "i=1\n",
    "j=1\n",
    "while i<=3:\n",
    "  print(\"MRCET\",end=\" \")\n",
    "  while j<=1:\n",
    "   print(\"CSE DEPT\",end=\"\")\n",
    "   j=j+1\n",
    "  i=i+1\n",
    "  print()"
   ]
  },
  {
   "cell_type": "code",
   "execution_count": 15,
   "metadata": {},
   "outputs": [
    {
     "name": "stdout",
     "output_type": "stream",
     "text": [
      "1\n",
      "2\n",
      "3\n",
      "4\n",
      "5\n",
      "6\n",
      "7\n",
      "8\n",
      "9\n"
     ]
    }
   ],
   "source": [
    "i = 1\n",
    "while (i < 10):\n",
    "  print (i)\n",
    "  i = i+1\n"
   ]
  },
  {
   "cell_type": "code",
   "execution_count": 16,
   "metadata": {},
   "outputs": [
    {
     "name": "stdout",
     "output_type": "stream",
     "text": [
      "Iteration 1\n",
      "Iteration 2\n",
      "Iteration 3\n",
      "While loop terminated\n"
     ]
    }
   ],
   "source": [
    "a = 1\n",
    "b = 1\n",
    "while (a<10):\n",
    "   print ('Iteration',a)\n",
    "   a = a + 1\n",
    "   b = b + 1\n",
    "   if (b == 4):\n",
    "      break\n",
    "print ('While loop terminated')"
   ]
  },
  {
   "cell_type": "code",
   "execution_count": 18,
   "metadata": {},
   "outputs": [
    {
     "name": "stdout",
     "output_type": "stream",
     "text": [
      "The count is: 0\n",
      "The count is: 1\n",
      "The count is: 2\n",
      "The count is: 3\n",
      "The count is: 4\n",
      "The count is: 5\n",
      "The count is: 6\n",
      "The count is: 7\n",
      "The count is: 8\n",
      "Good bye!\n"
     ]
    }
   ],
   "source": [
    "count = 0\n",
    "while (count < 9):\n",
    "    print(\"The count is:\", count)\n",
    "    count = count + 1\n",
    "print(\"Good bye!\")"
   ]
  },
  {
   "cell_type": "markdown",
   "metadata": {},
   "source": [
    "## For Loop"
   ]
  },
  {
   "cell_type": "code",
   "execution_count": 20,
   "metadata": {},
   "outputs": [
    {
     "name": "stdout",
     "output_type": "stream",
     "text": [
      "1\n",
      "4\n",
      "16\n",
      "36\n",
      "121\n",
      "400\n"
     ]
    }
   ],
   "source": [
    "numbers = [1, 2, 4, 6, 11, 20]\n",
    "seq=0\n",
    "for val in numbers:\n",
    "  seq=val*val\n",
    "  print(seq)"
   ]
  },
  {
   "cell_type": "code",
   "execution_count": 22,
   "metadata": {},
   "outputs": [
    {
     "name": "stdout",
     "output_type": "stream",
     "text": [
      "college  1  is  J\n",
      "college  2  is  I\n",
      "college  3  is  N\n",
      "college  4  is  N\n",
      "college  5  is  A\n",
      "college  6  is  H\n"
     ]
    }
   ],
   "source": [
    "# Iterating over a list:\n",
    "#list of items\n",
    "list = ['J','I','N','N','A','H']\n",
    "i = 1\n",
    "#Iterating over the list\n",
    "for item in list:\n",
    "    print ('college ',i,' is ',item)\n",
    "    i = i+1"
   ]
  },
  {
   "cell_type": "code",
   "execution_count": 23,
   "metadata": {},
   "outputs": [
    {
     "name": "stdout",
     "output_type": "stream",
     "text": [
      "These are the first four prime numbers \n",
      "2\n",
      "3\n",
      "5\n",
      "7\n"
     ]
    }
   ],
   "source": [
    "tuple = (2,3,5,7)\n",
    "print ('These are the first four prime numbers ')\n",
    "#Iterating over the tuple\n",
    "for a in tuple:\n",
    "   print (a)"
   ]
  },
  {
   "cell_type": "code",
   "execution_count": 25,
   "metadata": {},
   "outputs": [
    {
     "name": "stdout",
     "output_type": "stream",
     "text": [
      "Keys are:\n",
      "ces\n",
      "it\n",
      "ece\n",
      "Values are:\n",
      "block1\n",
      "block2\n",
      "block3\n"
     ]
    }
   ],
   "source": [
    "# Iterating over a dictionary:\n",
    "#creating a dictionary\n",
    "college = {\"ces\":\"block1\",\"it\":\"block2\",\"ece\":\"block3\"}\n",
    "#Iterating over the dictionary to print keys\n",
    "print ('Keys are:')\n",
    "for keys in college:\n",
    "    print (keys)\n",
    "    \n",
    "    \n",
    "print ('Values are:')\n",
    "for blocks in college.values():\n",
    "    print(blocks)"
   ]
  },
  {
   "cell_type": "code",
   "execution_count": 26,
   "metadata": {},
   "outputs": [
    {
     "name": "stdout",
     "output_type": "stream",
     "text": [
      "M\n",
      "R\n",
      "C\n",
      "E\n",
      "T\n"
     ]
    }
   ],
   "source": [
    "# Iterating over a String:\n",
    "#declare a string to iterate over\n",
    "college = 'MRCET'\n",
    "#Iterating over the string\n",
    "for name in college:\n",
    "    print (name)"
   ]
  },
  {
   "cell_type": "markdown",
   "metadata": {},
   "source": [
    "## Nested For loop:"
   ]
  },
  {
   "cell_type": "code",
   "execution_count": 28,
   "metadata": {},
   "outputs": [
    {
     "name": "stdout",
     "output_type": "stream",
     "text": [
      "1 \n",
      "2 2 \n",
      "3 3 3 \n",
      "4 4 4 4 \n",
      "5 5 5 5 5 \n"
     ]
    }
   ],
   "source": [
    "for i in range(1,6):\n",
    "    for j in range(0,i):\n",
    "        print(i, end=\" \")\n",
    "    print('')"
   ]
  },
  {
   "cell_type": "code",
   "execution_count": 30,
   "metadata": {},
   "outputs": [
    {
     "name": "stdout",
     "output_type": "stream",
     "text": [
      "1 1 1 1 1 \n",
      "2 2 2 2 \n",
      "3 3 3 \n",
      "4 4 \n",
      "5 \n"
     ]
    }
   ],
   "source": [
    "for i in range(1,6):\n",
    "    for j in range(5,i-1,-1):\n",
    "        print(i, end=\" \")\n",
    "    print('')"
   ]
  },
  {
   "cell_type": "markdown",
   "metadata": {},
   "source": [
    "## Break:"
   ]
  },
  {
   "cell_type": "code",
   "execution_count": 34,
   "metadata": {},
   "outputs": [
    {
     "name": "stdout",
     "output_type": "stream",
     "text": [
      "J\n",
      "I\n",
      "N\n",
      "N\n",
      "A\n",
      "H\n",
      "The end\n"
     ]
    }
   ],
   "source": [
    "for val in \"JINNAH COLLEGE\":\n",
    "     if val == \" \":\n",
    "        break\n",
    "     print(val)\n",
    "print(\"The end\")"
   ]
  },
  {
   "cell_type": "code",
   "execution_count": 35,
   "metadata": {},
   "outputs": [
    {
     "name": "stdout",
     "output_type": "stream",
     "text": [
      "11\n",
      "9\n",
      "88\n",
      "The number 88 is found\n",
      "Terminating the loop\n"
     ]
    }
   ],
   "source": [
    "for num in [11, 9, 88, 10, 90, 3, 19]:\n",
    "   print(num)\n",
    "   if(num==88):\n",
    "      print(\"The number 88 is found\")\n",
    "      print(\"Terminating the loop\")\n",
    "      break"
   ]
  },
  {
   "cell_type": "code",
   "execution_count": 37,
   "metadata": {},
   "outputs": [
    {
     "name": "stdout",
     "output_type": "stream",
     "text": [
      "Current Letter : P\n",
      "Current Letter : y\n",
      "Current Letter : t\n"
     ]
    }
   ],
   "source": [
    "for letter in \"Python\": # First Example\n",
    "    if letter == \"h\":\n",
    "        break\n",
    "    print(\"Current Letter :\", letter )"
   ]
  },
  {
   "cell_type": "markdown",
   "metadata": {},
   "source": [
    "## Continue:"
   ]
  },
  {
   "cell_type": "code",
   "execution_count": 39,
   "metadata": {},
   "outputs": [
    {
     "name": "stdout",
     "output_type": "stream",
     "text": [
      "s\n",
      "t\n",
      "r\n",
      "n\n",
      "g\n",
      "The end\n"
     ]
    }
   ],
   "source": [
    "for val in \"string\":\n",
    "    if val == \"i\":\n",
    "     continue\n",
    "    print(val)\n",
    "print(\"The end\")\n"
   ]
  },
  {
   "cell_type": "code",
   "execution_count": 41,
   "metadata": {},
   "outputs": [
    {
     "name": "stdout",
     "output_type": "stream",
     "text": [
      "11\n",
      "9\n",
      "89\n"
     ]
    }
   ],
   "source": [
    "for num in [20, 11, 9, 66, 4, 89, 44]:\n",
    "\n",
    "# Skipping the iteration when number is even\n",
    "    if num%2 == 0:\n",
    "        continue\n",
    "# This statement will be skipped for all even numbers\n",
    "    print(num)"
   ]
  },
  {
   "cell_type": "code",
   "execution_count": 42,
   "metadata": {},
   "outputs": [
    {
     "name": "stdout",
     "output_type": "stream",
     "text": [
      "Current Letter : P\n",
      "Current Letter : y\n",
      "Current Letter : t\n",
      "Current Letter : o\n",
      "Current Letter : n\n"
     ]
    }
   ],
   "source": [
    "for letter in \"Python\": # First Example\n",
    "    if letter == \"h\":\n",
    "        continue\n",
    "    print(\"Current Letter :\", letter)\n"
   ]
  },
  {
   "cell_type": "markdown",
   "metadata": {},
   "source": [
    "## UNIT – III"
   ]
  },
  {
   "cell_type": "markdown",
   "metadata": {},
   "source": [
    "# Functions, Arrays:"
   ]
  },
  {
   "cell_type": "code",
   "execution_count": 43,
   "metadata": {},
   "outputs": [
    {
     "name": "stdout",
     "output_type": "stream",
     "text": [
      "50.24\n"
     ]
    }
   ],
   "source": [
    "# returns the area of a circle with the given radius:\n",
    "def area(radius):\n",
    "  temp = 3.14 * radius**2\n",
    "  return temp\n",
    "print(area(4))"
   ]
  },
  {
   "cell_type": "code",
   "execution_count": 44,
   "metadata": {},
   "outputs": [
    {
     "name": "stdout",
     "output_type": "stream",
     "text": [
      "True\n",
      "True\n",
      "None\n"
     ]
    }
   ],
   "source": [
    "# Write a Python function that takes two lists and returns True if they have at least one\n",
    "# common member.\n",
    "def common_data(list1, list2):\n",
    " for x in list1:\n",
    "   for y in list2:\n",
    "       if x == y:\n",
    "        result = True\n",
    "        return result\n",
    "print(common_data([1,2,3,4,5], [1,2,3,4,5]))\n",
    "print(common_data([1,2,3,4,5], [1,7,8,9,510]))\n",
    "print(common_data([1,2,3,4,5], [6,7,8,9,10]))"
   ]
  },
  {
   "cell_type": "markdown",
   "metadata": {},
   "source": [
    "## Local and Global scope:"
   ]
  },
  {
   "cell_type": "code",
   "execution_count": 45,
   "metadata": {},
   "outputs": [
    {
     "name": "stdout",
     "output_type": "stream",
     "text": [
      "globalglobal\n",
      "local\n"
     ]
    }
   ],
   "source": [
    "# use local and global variables in same code\n",
    "\n",
    "x = \"global\"\n",
    "def f3():\n",
    "    global x\n",
    "    y = \"local\"\n",
    "    x = x * 2\n",
    "    print(x)\n",
    "    print(y)\n",
    "f3()"
   ]
  },
  {
   "cell_type": "code",
   "execution_count": 46,
   "metadata": {},
   "outputs": [
    {
     "name": "stdout",
     "output_type": "stream",
     "text": [
      "local x: 10\n",
      "global x: 5\n"
     ]
    }
   ],
   "source": [
    "# use Global variable and Local variable with same name\n",
    "x = 5\n",
    "def f4():\n",
    "    x = 10\n",
    "    print(\"local x:\", x)\n",
    "f4()\n",
    "print(\"global x:\", x)"
   ]
  },
  {
   "cell_type": "markdown",
   "metadata": {},
   "source": [
    "### Recursion:"
   ]
  },
  {
   "cell_type": "code",
   "execution_count": 48,
   "metadata": {},
   "outputs": [
    {
     "name": "stdout",
     "output_type": "stream",
     "text": [
      "The factorial of 6 is 720\n"
     ]
    }
   ],
   "source": [
    "def calc_factorial(x):\n",
    "    \"\"\"This is a recursive function\n",
    "    to find the factorial of an integer\"\"\"\n",
    "    if x == 1:\n",
    "        return 1\n",
    "    else:\n",
    "       return (x * calc_factorial(x-1))\n",
    "\n",
    "num = 6\n",
    "print(\"The factorial of\", num, \"is\", calc_factorial(num))"
   ]
  },
  {
   "cell_type": "markdown",
   "metadata": {},
   "source": [
    "### Strings:"
   ]
  },
  {
   "cell_type": "code",
   "execution_count": 49,
   "metadata": {},
   "outputs": [
    {
     "name": "stdout",
     "output_type": "stream",
     "text": [
      "Hello World!\n",
      "H\n",
      "llo\n",
      "llo World!\n",
      "Hello World!TEST\n"
     ]
    }
   ],
   "source": [
    "str = 'Hello World!'\n",
    "print (str )# complete string\n",
    "print (str[0]) # Prints first character of the string\n",
    "print (str[2:5]) # P)rints characters starting from 3rd to 5th\n",
    "print (str[2:] )# Pr)ints string starting from 3rd character print\n",
    "str * 2 # Prints string two times\n",
    "print (str + \"TEST\") # Prints concatenated string"
   ]
  },
  {
   "cell_type": "markdown",
   "metadata": {},
   "source": [
    "### String functions and methods:"
   ]
  },
  {
   "cell_type": "code",
   "execution_count": 52,
   "metadata": {},
   "outputs": [
    {
     "name": "stdout",
     "output_type": "stream",
     "text": [
      "True\n",
      "True\n",
      "True\n",
      "True\n",
      "True\n",
      "True\n",
      "True\n",
      "Neha Is Learning\n",
      "['Nikhil', 'Is', 'Learning']\n",
      "3\n",
      "2\n"
     ]
    }
   ],
   "source": [
    "string=\"123alpha\"\n",
    "print(string.isalnum() )\n",
    "\n",
    "string=\"nikhil\"\n",
    "print(string.isalpha())\n",
    "string=\"123456789\"\n",
    "print(string.isdigit())\n",
    "string=\"nikhil\"\n",
    "print(string.islower())\n",
    "string=\"123456789\"\n",
    "print(string.isnumeric())\n",
    "\n",
    "string=\"Nikhil Is Learning\"\n",
    "print(string.istitle())\n",
    "\n",
    "string=\"HELLO\"\n",
    "print(string.isupper())\n",
    "\n",
    "string=\"Nikhil Is Learning\"\n",
    "print(string.replace('Nikhil','Neha'))\n",
    "\n",
    "string=\"Nikhil Is Learning\"\n",
    "print(string.split())\n",
    "\n",
    "string='Nikhil Is Learning'\n",
    "print(string.count('i'))\n",
    "\n",
    "string=\"Nikhil Is Learning\"\n",
    "print(string.find('k'))"
   ]
  },
  {
   "cell_type": "markdown",
   "metadata": {},
   "source": [
    "## UNIT – IV"
   ]
  },
  {
   "cell_type": "markdown",
   "metadata": {},
   "source": [
    "# List"
   ]
  },
  {
   "cell_type": "code",
   "execution_count": 53,
   "metadata": {},
   "outputs": [
    {
     "name": "stdout",
     "output_type": "stream",
     "text": [
      "range(1, 6)\n"
     ]
    },
    {
     "data": {
      "text/plain": [
       "range(1, 6)"
      ]
     },
     "execution_count": 53,
     "metadata": {},
     "output_type": "execute_result"
    }
   ],
   "source": [
    "# SLICING\n",
    "list1=range(1,6)\n",
    "list1\n",
    "range(1, 6)\n",
    "print(list1)\n",
    "range(1, 6)"
   ]
  },
  {
   "cell_type": "code",
   "execution_count": 54,
   "metadata": {},
   "outputs": [
    {
     "data": {
      "text/plain": [
       "[2, 3, 4, 5, 6, 7, 8, 9, 10]"
      ]
     },
     "execution_count": 54,
     "metadata": {},
     "output_type": "execute_result"
    }
   ],
   "source": [
    "list1=[1,2,3,4,5,6,7,8,9,10]\n",
    "list1[1:]\n"
   ]
  },
  {
   "cell_type": "code",
   "execution_count": 55,
   "metadata": {},
   "outputs": [
    {
     "data": {
      "text/plain": [
       "[3, 4, 5]"
      ]
     },
     "execution_count": 55,
     "metadata": {},
     "output_type": "execute_result"
    }
   ],
   "source": [
    "list1=[1,2,3,4,5,6,7,8,9,10]\n",
    "list1[2:5]"
   ]
  },
  {
   "cell_type": "code",
   "execution_count": 56,
   "metadata": {},
   "outputs": [
    {
     "data": {
      "text/plain": [
       "[1, 2, 3, 4, 5, 6]"
      ]
     },
     "execution_count": 56,
     "metadata": {},
     "output_type": "execute_result"
    }
   ],
   "source": [
    "list1=[1,2,3,4,5,6,7,8,9,10]\n",
    "list1[:6]\n",
    "# list1[1:2:4]\n"
   ]
  },
  {
   "cell_type": "code",
   "execution_count": 57,
   "metadata": {},
   "outputs": [
    {
     "data": {
      "text/plain": [
       "[2]"
      ]
     },
     "execution_count": 57,
     "metadata": {},
     "output_type": "execute_result"
    }
   ],
   "source": [
    "list1=[1,2,3,4,5,6,7,8,9,10]\n",
    "list1[1:2:4]"
   ]
  },
  {
   "cell_type": "markdown",
   "metadata": {},
   "source": [
    " List methods:"
   ]
  },
  {
   "cell_type": "code",
   "execution_count": 58,
   "metadata": {},
   "outputs": [
    {
     "data": {
      "text/plain": [
       "[5, 8, 6]"
      ]
     },
     "execution_count": 58,
     "metadata": {},
     "output_type": "execute_result"
    }
   ],
   "source": [
    "x=[5,3,8,6]\n",
    "del(x[1]) #deletes the index position 1 in a list\n",
    "x\n"
   ]
  },
  {
   "cell_type": "code",
   "execution_count": 59,
   "metadata": {},
   "outputs": [],
   "source": [
    "x=[5,3,8,6]\n",
    "\n",
    "del(x)\n",
    "# complete list gets deleted"
   ]
  },
  {
   "cell_type": "code",
   "execution_count": 60,
   "metadata": {},
   "outputs": [
    {
     "data": {
      "text/plain": [
       "[1, 5, 8, 4, 10]"
      ]
     },
     "execution_count": 60,
     "metadata": {},
     "output_type": "execute_result"
    }
   ],
   "source": [
    "# Append: Append an item to a list\n",
    "x=[1,5,8,4]\n",
    "x.append(10)\n",
    "x\n"
   ]
  },
  {
   "cell_type": "code",
   "execution_count": 61,
   "metadata": {},
   "outputs": [
    {
     "data": {
      "text/plain": [
       "[1, 5, 8, 4, 10]"
      ]
     },
     "execution_count": 61,
     "metadata": {},
     "output_type": "execute_result"
    }
   ],
   "source": [
    "# Append: Append an item to a list\n",
    "x=[1,5,8,4]\n",
    "x.append(10)\n",
    "x"
   ]
  },
  {
   "cell_type": "code",
   "execution_count": 62,
   "metadata": {},
   "outputs": [
    {
     "data": {
      "text/plain": [
       "[1, 2, 10, 4, 6, 7]"
      ]
     },
     "execution_count": 62,
     "metadata": {},
     "output_type": "execute_result"
    }
   ],
   "source": [
    "# Insert: To add an item at the specified index, use the insert () method:\n",
    "x=[1,2,4,6,7]\n",
    "\n",
    "x.insert(2,10) #insert(index no, item to be inserted)\n",
    "x"
   ]
  },
  {
   "cell_type": "code",
   "execution_count": 63,
   "metadata": {},
   "outputs": [
    {
     "data": {
      "text/plain": [
       "[1, 2, 10, 4, 6]"
      ]
     },
     "execution_count": 63,
     "metadata": {},
     "output_type": "execute_result"
    }
   ],
   "source": [
    "# Pop: The pop() method removes the specified index, (or the last item if index is not\n",
    "# specified) or simply pops the last item of list and returns the item.\n",
    "x=[1, 2, 10, 4, 6, 7]\n",
    "x.pop()\n",
    "x"
   ]
  },
  {
   "cell_type": "code",
   "execution_count": 64,
   "metadata": {},
   "outputs": [
    {
     "data": {
      "text/plain": [
       "[1, 2, 4, 6]"
      ]
     },
     "execution_count": 64,
     "metadata": {},
     "output_type": "execute_result"
    }
   ],
   "source": [
    "x=[1, 2, 10, 4, 6]\n",
    "x.pop(2)\n",
    "x"
   ]
  },
  {
   "cell_type": "code",
   "execution_count": 65,
   "metadata": {},
   "outputs": [
    {
     "data": {
      "text/plain": [
       "[1, 2, 10, 4, 6]"
      ]
     },
     "execution_count": 65,
     "metadata": {},
     "output_type": "execute_result"
    }
   ],
   "source": [
    "# Remove: The remove() method removes the specified item from a given list.\n",
    "x=[1,33,2,10,4,6]\n",
    "x.remove(33)\n",
    "x"
   ]
  },
  {
   "cell_type": "code",
   "execution_count": 66,
   "metadata": {},
   "outputs": [
    {
     "data": {
      "text/plain": [
       "[1, 2, 10, 6]"
      ]
     },
     "execution_count": 66,
     "metadata": {},
     "output_type": "execute_result"
    }
   ],
   "source": [
    "x=[1, 2, 10, 4, 6]\n",
    "x.remove(4)\n",
    "x"
   ]
  },
  {
   "cell_type": "code",
   "execution_count": 67,
   "metadata": {},
   "outputs": [
    {
     "data": {
      "text/plain": [
       "[7, 6, 5, 4, 3, 2, 1]"
      ]
     },
     "execution_count": 67,
     "metadata": {},
     "output_type": "execute_result"
    }
   ],
   "source": [
    "# Reverse: Reverse the order of a given list.\n",
    "x=[1,2,3,4,5,6,7]\n",
    "x.reverse()\n",
    "x"
   ]
  },
  {
   "cell_type": "code",
   "execution_count": 68,
   "metadata": {},
   "outputs": [
    {
     "data": {
      "text/plain": [
       "[1, 2, 3, 4, 5, 6, 7]"
      ]
     },
     "execution_count": 68,
     "metadata": {},
     "output_type": "execute_result"
    }
   ],
   "source": [
    "# Sort: Sorts the elements in ascending order\n",
    "x=[7, 6, 5, 4, 3, 2, 1]\n",
    "x.sort()\n",
    "x"
   ]
  },
  {
   "cell_type": "markdown",
   "metadata": {},
   "source": [
    "List loop:"
   ]
  },
  {
   "cell_type": "markdown",
   "metadata": {},
   "source": [
    "For loop"
   ]
  },
  {
   "cell_type": "code",
   "execution_count": 69,
   "metadata": {},
   "outputs": [
    {
     "name": "stdout",
     "output_type": "stream",
     "text": [
      "college  1  is  M\n",
      "college  2  is  R\n",
      "college  3  is  C\n",
      "college  4  is  E\n",
      "college  5  is  T\n"
     ]
    }
   ],
   "source": [
    "list = ['M','R','C','E','T']\n",
    "\n",
    "i = 1\n",
    "#Iterating over the list\n",
    "for item in list:\n",
    " print ('college ',i,' is ',item)\n",
    " i = i+1"
   ]
  },
  {
   "cell_type": "code",
   "execution_count": 70,
   "metadata": {},
   "outputs": [
    {
     "name": "stdout",
     "output_type": "stream",
     "text": [
      "1\n",
      "3\n",
      "5\n",
      "7\n",
      "9\n"
     ]
    }
   ],
   "source": [
    "list = [1, 3, 5, 7, 9]\n",
    "# getting length of list\n",
    "length = len(list)\n",
    "# Iterating the index\n",
    "# same as 'for i in range(len(list))'\n",
    "for i in range(length):\n",
    " print(list[i])"
   ]
  },
  {
   "cell_type": "markdown",
   "metadata": {},
   "source": [
    "while loop"
   ]
  },
  {
   "cell_type": "code",
   "execution_count": 71,
   "metadata": {},
   "outputs": [
    {
     "name": "stdout",
     "output_type": "stream",
     "text": [
      "1\n",
      "3\n",
      "5\n",
      "7\n",
      "9\n"
     ]
    }
   ],
   "source": [
    "list = [1, 3, 5, 7, 9]\n",
    "# Getting length of list\n",
    "\n",
    "\n",
    "length = len(list)\n",
    "i = 0\n",
    "# Iterating using while loop\n",
    "while i < length:\n",
    " print(list[i])\n",
    " i += 1"
   ]
  },
  {
   "cell_type": "markdown",
   "metadata": {},
   "source": [
    "Mutability:"
   ]
  },
  {
   "cell_type": "code",
   "execution_count": 72,
   "metadata": {},
   "outputs": [
    {
     "data": {
      "text/plain": [
       "[1, 5, 8, 4, 10]"
      ]
     },
     "execution_count": 72,
     "metadata": {},
     "output_type": "execute_result"
    }
   ],
   "source": [
    "# Append: Append an item to a list\n",
    "x=[1,5,8,4]\n",
    "x.append(10)\n",
    "x"
   ]
  },
  {
   "cell_type": "code",
   "execution_count": 73,
   "metadata": {},
   "outputs": [
    {
     "data": {
      "text/plain": [
       "[1, 2, 3, 4, 3, 6, 9, 1]"
      ]
     },
     "execution_count": 73,
     "metadata": {},
     "output_type": "execute_result"
    }
   ],
   "source": [
    "# Extend: Append a sequence to a list.\n",
    "x=[1,2,3,4]\n",
    "y=[3,6,9,1]\n",
    "x.extend(y)\n",
    "x"
   ]
  },
  {
   "cell_type": "code",
   "execution_count": 74,
   "metadata": {},
   "outputs": [
    {
     "data": {
      "text/plain": [
       "[5, 8, 6]"
      ]
     },
     "execution_count": 74,
     "metadata": {},
     "output_type": "execute_result"
    }
   ],
   "source": [
    "# Delete: Delete a list or an item from a list\n",
    "x=[5,3,8,6]\n",
    "del(x[1]) #deletes the index position 1 in a list\n",
    "x"
   ]
  },
  {
   "cell_type": "code",
   "execution_count": 75,
   "metadata": {},
   "outputs": [
    {
     "data": {
      "text/plain": [
       "[7, 6, 5, 4, 3, 2, 1]"
      ]
     },
     "execution_count": 75,
     "metadata": {},
     "output_type": "execute_result"
    }
   ],
   "source": [
    "# Reverse: Reverse the order of a given list.\n",
    "x=[1,2,3,4,5,6,7]\n",
    "x.reverse()\n",
    "x"
   ]
  },
  {
   "cell_type": "code",
   "execution_count": 76,
   "metadata": {},
   "outputs": [
    {
     "data": {
      "text/plain": [
       "[1, 2, 3, 4, 5, 6, 7]"
      ]
     },
     "execution_count": 76,
     "metadata": {},
     "output_type": "execute_result"
    }
   ],
   "source": [
    "# Sort: Sorts the elements in ascending order\n",
    "x=[7, 6, 5, 4, 3, 2, 1]\n",
    "x.sort()\n",
    "x"
   ]
  },
  {
   "cell_type": "markdown",
   "metadata": {},
   "source": [
    "Aliasing:"
   ]
  },
  {
   "cell_type": "code",
   "execution_count": 77,
   "metadata": {},
   "outputs": [
    {
     "name": "stdout",
     "output_type": "stream",
     "text": [
      "True\n",
      "False\n",
      "True\n",
      "True\n",
      "[5, 82, 83]\n"
     ]
    }
   ],
   "source": [
    "a = [81, 82, 83]\n",
    "b = [81, 82, 83]\n",
    "print(a == b)\n",
    "print(a is b)\n",
    "b = a\n",
    "print(a == b)\n",
    "print(a is b)\n",
    "b[0] = 5\n",
    "print(a)"
   ]
  },
  {
   "cell_type": "markdown",
   "metadata": {},
   "source": [
    "Cloning Lists:"
   ]
  },
  {
   "cell_type": "code",
   "execution_count": 78,
   "metadata": {},
   "outputs": [
    {
     "name": "stdout",
     "output_type": "stream",
     "text": [
      "True\n",
      "False\n",
      "[81, 82, 83]\n",
      "[5, 82, 83]\n"
     ]
    }
   ],
   "source": [
    "a = [81, 82, 83]\n",
    "b = a[:] # make a clone using slice\n",
    "print(a == b)\n",
    "print(a is b)\n",
    "b[0] = 5\n",
    "print(a)   ##88  93  \n",
    "print(b)"
   ]
  },
  {
   "cell_type": "markdown",
   "metadata": {},
   "source": [
    "List parameters:"
   ]
  },
  {
   "cell_type": "code",
   "execution_count": 79,
   "metadata": {},
   "outputs": [
    {
     "name": "stdout",
     "output_type": "stream",
     "text": [
      "[2, 5, 9]\n",
      "[4, 10, 18]\n"
     ]
    }
   ],
   "source": [
    "def doubleStuff(List):\n",
    "    \"\"\" Overwrite each element in List with double its value. \"\"\"\n",
    "    for position in range(len(List)):\n",
    "        List[position] = 2 * List[position]\n",
    "\n",
    "things = [2, 5, 9]\n",
    "print(things)  # Output before modification\n",
    "doubleStuff(things)\n",
    "print(things)  # Output after modification\n"
   ]
  },
  {
   "cell_type": "markdown",
   "metadata": {},
   "source": [
    "List comprehension:\n",
    "List:"
   ]
  },
  {
   "cell_type": "code",
   "execution_count": 80,
   "metadata": {},
   "outputs": [
    {
     "data": {
      "text/plain": [
       "[0, 1, 4, 9, 16, 25, 36, 49, 64, 81]"
      ]
     },
     "execution_count": 80,
     "metadata": {},
     "output_type": "execute_result"
    }
   ],
   "source": [
    "list1=[]\n",
    "for x in range(10):\n",
    "  list1.append(x**2)\n",
    "list1"
   ]
  },
  {
   "cell_type": "code",
   "execution_count": 81,
   "metadata": {},
   "outputs": [
    {
     "name": "stdout",
     "output_type": "stream",
     "text": [
      "[0, 1, 2, 3, 4, 5, 6, 7]\n",
      "[25, 36, 49, 64, 81]\n",
      "[1, 9, 25, 49, 81]\n"
     ]
    }
   ],
   "source": [
    "x=[m for m in range(8)]\n",
    "print(x)\n",
    "[0, 1, 2, 3, 4, 5, 6, 7]\n",
    "x=[z**2 for z in range(10) if z>4]\n",
    "print(x)\n",
    "[25, 36, 49, 64, 81]\n",
    "x=[x ** 2 for x in range (1, 11) if x % 2 == 1]\n",
    "print(x)"
   ]
  },
  {
   "cell_type": "markdown",
   "metadata": {},
   "source": [
    "## Tuples:"
   ]
  },
  {
   "cell_type": "code",
   "execution_count": 82,
   "metadata": {},
   "outputs": [
    {
     "name": "stdout",
     "output_type": "stream",
     "text": [
      "(1, 2, 3)\n"
     ]
    },
    {
     "data": {
      "text/plain": [
       "(1, 2, 3)"
      ]
     },
     "execution_count": 82,
     "metadata": {},
     "output_type": "execute_result"
    }
   ],
   "source": [
    "x=(1,2,3)\n",
    "print(x)\n",
    "(1, 2, 3)\n",
    "x"
   ]
  },
  {
   "cell_type": "code",
   "execution_count": 85,
   "metadata": {},
   "outputs": [
    {
     "name": "stdout",
     "output_type": "stream",
     "text": [
      "4\n",
      "5\n",
      "6\n",
      "7\n",
      "2\n",
      "aa\n"
     ]
    }
   ],
   "source": [
    "# Loop through a tuple: We can loop the values of tuple using for loop\n",
    "x=4,5,6,7,2,'aa'\n",
    "for i in x:\n",
    " print(i)"
   ]
  },
  {
   "cell_type": "code",
   "execution_count": 86,
   "metadata": {},
   "outputs": [
    {
     "data": {
      "text/plain": [
       "4"
      ]
     },
     "execution_count": 86,
     "metadata": {},
     "output_type": "execute_result"
    }
   ],
   "source": [
    "# Count (): Returns the number of times a specified value occurs in a tuple\n",
    "x=(1,2,3,4,5,6,2,10,2,11,12,2)\n",
    "x.count(2)"
   ]
  },
  {
   "cell_type": "code",
   "execution_count": 87,
   "metadata": {},
   "outputs": [
    {
     "data": {
      "text/plain": [
       "1"
      ]
     },
     "execution_count": 87,
     "metadata": {},
     "output_type": "execute_result"
    }
   ],
   "source": [
    "# Index (): Searches the tuple for a specified value and returns the position of where it\n",
    "# was found\n",
    "\n",
    "x=(1,2,3,4,5,6,2,10,2,11,12,2)\n",
    "x.index(2)"
   ]
  },
  {
   "cell_type": "markdown",
   "metadata": {},
   "source": [
    "Tuple as return values:"
   ]
  },
  {
   "cell_type": "code",
   "execution_count": 89,
   "metadata": {},
   "outputs": [
    {
     "name": "stdout",
     "output_type": "stream",
     "text": [
      "mrcet college\n",
      "20\n"
     ]
    }
   ],
   "source": [
    "def fun():\n",
    "    str_value = \"mrcet college\"\n",
    "    x = 20\n",
    "    return str_value, x  # Return tuple\n",
    "\n",
    "# Driver code to test the function\n",
    "str_value, x = fun()  # Assign returned tuple\n",
    "print(str_value)\n",
    "print(x)\n"
   ]
  },
  {
   "cell_type": "code",
   "execution_count": 90,
   "metadata": {},
   "outputs": [
    {
     "name": "stdout",
     "output_type": "stream",
     "text": [
      "(62.8318, 314.159)\n"
     ]
    }
   ],
   "source": [
    "def circleInfo(r):\n",
    "    \"\"\"Return (circumference, area) of a circle of radius r\"\"\"\n",
    "    c = 2 * 3.14159 * r\n",
    "    a = 3.14159 * r * r\n",
    "    return c, a  # Correct indentation of return statement\n",
    "\n",
    "# Calling the function and printing the result\n",
    "print(circleInfo(10))\n"
   ]
  },
  {
   "cell_type": "markdown",
   "metadata": {},
   "source": [
    "Tuple comprehension:"
   ]
  },
  {
   "cell_type": "code",
   "execution_count": 92,
   "metadata": {},
   "outputs": [
    {
     "name": "stdout",
     "output_type": "stream",
     "text": [
      "<generator object <genexpr> at 0x000001F4B9D14C40>\n"
     ]
    }
   ],
   "source": [
    "x = (i for i in 'abc') #tuple comprehension\n",
    "x\n",
    "print(x)\n"
   ]
  },
  {
   "cell_type": "code",
   "execution_count": 93,
   "metadata": {},
   "outputs": [
    {
     "name": "stdout",
     "output_type": "stream",
     "text": [
      "a\n",
      "b\n",
      "c\n"
     ]
    }
   ],
   "source": [
    "x = (i for i in 'abc')\n",
    "for i in x:\n",
    " print(i)"
   ]
  },
  {
   "cell_type": "markdown",
   "metadata": {},
   "source": [
    "# Set:"
   ]
  },
  {
   "cell_type": "code",
   "execution_count": 94,
   "metadata": {},
   "outputs": [
    {
     "data": {
      "text/plain": [
       "{18, 21, 24, 27}"
      ]
     },
     "execution_count": 94,
     "metadata": {},
     "output_type": "execute_result"
    }
   ],
   "source": [
    "# Similarly to list comprehensions, set comprehensions are also supported:\n",
    "a = {x for x in 'abracadabra' if x not in 'abc'}\n",
    "a\n",
    "{'r', 'd'}\n",
    "x={3*x for x in range(10) if x>5}\n",
    "x\n"
   ]
  },
  {
   "cell_type": "markdown",
   "metadata": {},
   "source": [
    "## Dictionaries:"
   ]
  },
  {
   "cell_type": "code",
   "execution_count": 96,
   "metadata": {},
   "outputs": [
    {
     "data": {
      "text/plain": [
       "{'brand': 'mrcet', 'model': 'college', 'year': 2005}"
      ]
     },
     "execution_count": 96,
     "metadata": {},
     "output_type": "execute_result"
    }
   ],
   "source": [
    "# Add/change values: You can change the value of a specific item by referring to its key\n",
    "# name\n",
    "dict1 = {\"brand\":\"mrcet\",\"model\":\"college\",\"year\":2004}\n",
    "dict1[\"year\"]=2005\n",
    "dict1"
   ]
  },
  {
   "cell_type": "code",
   "execution_count": 101,
   "metadata": {},
   "outputs": [
    {
     "name": "stdout",
     "output_type": "stream",
     "text": [
      "college\n"
     ]
    },
    {
     "data": {
      "text/plain": [
       "{'brand': 'mrcet', 'year': 2004}"
      ]
     },
     "execution_count": 101,
     "metadata": {},
     "output_type": "execute_result"
    }
   ],
   "source": [
    "# Remove(): It removes or pop the specific item of dictionary.\n",
    "dict1 = {\"brand\":\"mrcet\",\"model\":\"college\",\"year\":2004}\n",
    "print(dict1.pop(\"model\"))\n",
    "dict1"
   ]
  },
  {
   "cell_type": "code",
   "execution_count": 103,
   "metadata": {},
   "outputs": [
    {
     "data": {
      "text/plain": [
       "{1: 1, 2: 4, 3: 9, 4: 16}"
      ]
     },
     "execution_count": 103,
     "metadata": {},
     "output_type": "execute_result"
    }
   ],
   "source": [
    "# Delete: Deletes a particular item.\n",
    "x = {1:1, 2:4, 3:9, 4:16, 5:25}\n",
    "del x[5]\n",
    "x"
   ]
  },
  {
   "cell_type": "code",
   "execution_count": 105,
   "metadata": {},
   "outputs": [
    {
     "data": {
      "text/plain": [
       "4"
      ]
     },
     "execution_count": 105,
     "metadata": {},
     "output_type": "execute_result"
    }
   ],
   "source": [
    "# Length: we use len() method to get the length of dictionary.\n",
    "{1: 1, 2: 4, 3: 9, 4: 16}\n",
    "{1: 1, 2: 4, 3: 9, 4: 16}\n",
    "y=len(x)\n",
    "y"
   ]
  },
  {
   "cell_type": "code",
   "execution_count": 106,
   "metadata": {},
   "outputs": [
    {
     "name": "stdout",
     "output_type": "stream",
     "text": [
      "1 1\n",
      "2 4\n",
      "3 9\n",
      "4 16\n",
      "5 25\n"
     ]
    }
   ],
   "source": [
    "# Iterating over (key, value) pairs:\n",
    "x = {1:1, 2:4, 3:9, 4:16, 5:25}\n",
    "for key in x:\n",
    " print(key, x[key])"
   ]
  },
  {
   "cell_type": "markdown",
   "metadata": {},
   "source": [
    "List of Dictionaries:"
   ]
  },
  {
   "cell_type": "code",
   "execution_count": 108,
   "metadata": {},
   "outputs": [
    {
     "name": "stdout",
     "output_type": "stream",
     "text": [
      "[{'uid': 1, 'name': 'John'}, {'uid': 2, 'name': 'Smith'}, {'uid': 3, 'name': 'Andersson'}]\n",
      "1 John\n",
      "2 Smith\n",
      "3 Andersson\n"
     ]
    }
   ],
   "source": [
    "customers = [{\"uid\":1,\"name\":\"John\"},\n",
    "{\"uid\":2,\"name\":\"Smith\"},\n",
    "{\"uid\":3,\"name\":\"Andersson\"},\n",
    "]\n",
    "print(customers)\n",
    "[{'uid': 1, 'name': 'John'}, {'uid': 2, 'name': 'Smith'}, {'uid': 3, 'name': 'Andersson'}]\n",
    "## Print the uid and name of each customer\n",
    "for x in customers:\n",
    " print(x[\"uid\"], x[\"name\"])"
   ]
  },
  {
   "cell_type": "code",
   "execution_count": 117,
   "metadata": {},
   "outputs": [
    {
     "data": {
      "text/plain": [
       "{0: 0, 1: 1, 2: 4, 3: 9, 4: 16, 5: 25}"
      ]
     },
     "execution_count": 117,
     "metadata": {},
     "output_type": "execute_result"
    }
   ],
   "source": [
    "# Comprehension:\n",
    "# Dictionary comprehensions can be used to create dictionaries from arbitrary key and\n",
    "# value expressions:\n",
    "z={x: x**2 for x in (2,4,6)}\n",
    "z\n",
    "{2: 4, 4: 16, 6: 36}\n",
    "dict11 = {x: x*x for x in range(6)}\n",
    "dict11"
   ]
  },
  {
   "cell_type": "markdown",
   "metadata": {},
   "source": [
    "## UNIT – V\n",
    "FILES, EXCEPTIONS, MODULES, PACKAGES"
   ]
  },
  {
   "cell_type": "code",
   "execution_count": 2,
   "metadata": {},
   "outputs": [
    {
     "name": "stdout",
     "output_type": "stream",
     "text": [
      "\n"
     ]
    }
   ],
   "source": [
    "# Write a python program to open and read a file\n",
    "\n",
    "a=open(\"one.txt\",\"r\")\n",
    "print(a.read())\n",
    "a.close()"
   ]
  },
  {
   "cell_type": "code",
   "execution_count": 3,
   "metadata": {},
   "outputs": [],
   "source": [
    "# Write a python program to open and write “hello world” into a file?\n",
    "\n",
    "f=open(\"one.txt\",\"a\")\n",
    "f.write(\"hello world\")\n",
    "f.close()"
   ]
  },
  {
   "cell_type": "code",
   "execution_count": 5,
   "metadata": {},
   "outputs": [],
   "source": [
    "# Write a python program to write the content “hi python programming” for the\n",
    "# existing file.\n",
    "\n",
    "f=open(\"one.txt\",'w')\n",
    "f.write(\"hi python programming\")\n",
    "f.close()"
   ]
  },
  {
   "cell_type": "code",
   "execution_count": 6,
   "metadata": {},
   "outputs": [
    {
     "name": "stdout",
     "output_type": "stream",
     "text": [
      "\n"
     ]
    }
   ],
   "source": [
    "# Write a python program to open and write the content to file and read it.\n",
    "\n",
    "fo=open(\"abc.txt\",\"w+\")\n",
    "fo.write(\"Python Programming\")\n",
    "print(fo.read())\n",
    "fo.close()"
   ]
  },
  {
   "cell_type": "markdown",
   "metadata": {},
   "source": [
    "## Command line arguments:"
   ]
  },
  {
   "cell_type": "code",
   "execution_count": 7,
   "metadata": {},
   "outputs": [
    {
     "name": "stdout",
     "output_type": "stream",
     "text": [
      "<class 'list'>\n",
      "The command line arguments are:\n",
      "c:\\Users\\SC\\Desktop\\data-Science\\venv\\Lib\\site-packages\\ipykernel_launcher.py\n",
      "--f=c:\\Users\\SC\\AppData\\Roaming\\jupyter\\runtime\\kernel-v3012e7676809e0245a38bcf933c0152f483814583.json\n"
     ]
    }
   ],
   "source": [
    "import sys\n",
    "print(type(sys.argv))\n",
    "print('The command line arguments are:')\n",
    "for i in sys.argv:\n",
    " print(i)"
   ]
  },
  {
   "cell_type": "code",
   "execution_count": 8,
   "metadata": {},
   "outputs": [
    {
     "name": "stdout",
     "output_type": "stream",
     "text": [
      "System version is:\n",
      "3.13.1 (tags/v3.13.1:0671451, Dec  3 2024, 19:06:28) [MSC v.1942 64 bit (AMD64)]\n",
      "Version Information is:\n",
      "sys.version_info(major=3, minor=13, micro=1, releaselevel='final', serial=0)\n"
     ]
    }
   ],
   "source": [
    "# write a python program to get python version.\n",
    "import sys\n",
    "print(\"System version is:\")\n",
    "print(sys.version)\n",
    "print(\"Version Information is:\")\n",
    "print(sys.version_info)"
   ]
  },
  {
   "cell_type": "markdown",
   "metadata": {},
   "source": [
    "## Handling Exceptions:"
   ]
  },
  {
   "cell_type": "code",
   "execution_count": 10,
   "metadata": {},
   "outputs": [
    {
     "name": "stdout",
     "output_type": "stream",
     "text": [
      "number can not be divided by zero\n",
      "bye\n"
     ]
    }
   ],
   "source": [
    "a=5\n",
    "b=0\n",
    "try:\n",
    "    print(a/b)\n",
    "except Exception:\n",
    "    print(\"number can not be divided by zero\")\n",
    "    print(\"bye\")"
   ]
  },
  {
   "cell_type": "code",
   "execution_count": 11,
   "metadata": {},
   "outputs": [
    {
     "name": "stdout",
     "output_type": "stream",
     "text": [
      "2.5\n"
     ]
    }
   ],
   "source": [
    "#  The except block executes only when try block has an error, check it below\n",
    "a=5\n",
    "b=2\n",
    "try:\n",
    "    print(a/b)\n",
    "except Exception:\n",
    "    print(\"number can not be divided by zero\")\n",
    "    print(\"bye\")"
   ]
  },
  {
   "cell_type": "code",
   "execution_count": 12,
   "metadata": {},
   "outputs": [
    {
     "name": "stdout",
     "output_type": "stream",
     "text": [
      "number can not be divided by zero division by zero\n",
      "bye\n"
     ]
    }
   ],
   "source": [
    "# For example if you want to print the message like what is an error in a program\n",
    "# then we use “e” which is the representation or object of an exception.\n",
    "\n",
    "a=5\n",
    "b=0\n",
    "try:\n",
    "    print(a/b)\n",
    "except Exception as e:\n",
    "    print(\"number can not be divided by zero\",e)\n",
    "print(\"bye\")"
   ]
  },
  {
   "cell_type": "markdown",
   "metadata": {},
   "source": [
    "## finally:"
   ]
  },
  {
   "cell_type": "code",
   "execution_count": 13,
   "metadata": {},
   "outputs": [
    {
     "name": "stdout",
     "output_type": "stream",
     "text": [
      "resource open\n",
      "the value can not be divided by zero division by zero\n",
      "resource closed\n"
     ]
    }
   ],
   "source": [
    "a=5\n",
    "b=0\n",
    "\n",
    "try:\n",
    "    print(\"resource open\")\n",
    "    print(a/b)\n",
    "    k=int(input(\"enter a number\"))\n",
    "    print(k)\n",
    "except ZeroDivisionError as e:\n",
    "    print(\"the value can not be divided by zero\",e)\n",
    "finally:\n",
    "    print(\"resource closed\")"
   ]
  },
  {
   "cell_type": "code",
   "execution_count": 14,
   "metadata": {},
   "outputs": [
    {
     "name": "stdout",
     "output_type": "stream",
     "text": [
      "resource open\n",
      "2.5\n",
      "4\n",
      "resource closed\n"
     ]
    }
   ],
   "source": [
    "#  change the value of b to 2 for above program, you see the output like\n",
    "a=5\n",
    "b=2\n",
    "\n",
    "try:\n",
    "    print(\"resource open\")\n",
    "    print(a/b)\n",
    "    k=int(input(\"enter a number\"))\n",
    "    print(k)\n",
    "except ZeroDivisionError as e:\n",
    "    print(\"the value can not be divided by zero\",e)\n",
    "finally:\n",
    "    print(\"resource closed\")"
   ]
  },
  {
   "cell_type": "code",
   "execution_count": 15,
   "metadata": {},
   "outputs": [
    {
     "name": "stdout",
     "output_type": "stream",
     "text": [
      "resource open\n",
      "the value can not be divided by zero division by zero\n",
      "resource closed\n"
     ]
    }
   ],
   "source": [
    "a=5\n",
    "b=0\n",
    "\n",
    "try:\n",
    "    print(\"resource open\")\n",
    "    print(a/b)\n",
    "    k=int(input(\"enter a number\"))\n",
    "    print(k)\n",
    "except ZeroDivisionError as e:\n",
    "    print(\"the value can not be divided by zero\",e)\n",
    "except ValueError as e:\n",
    "    print(\"invalid input\")\n",
    "except Exception as e:\n",
    "    print(\"something went wrong...\",e)\n",
    "finally:\n",
    "    print(\"resource closed\")"
   ]
  },
  {
   "cell_type": "code",
   "execution_count": 16,
   "metadata": {},
   "outputs": [
    {
     "name": "stdout",
     "output_type": "stream",
     "text": [
      "resource open\n",
      "2.5\n",
      "invalid input\n",
      "resource closed\n"
     ]
    }
   ],
   "source": [
    "# Change the value of b to 2 and give the input as some character or string (other\n",
    "# than int)\n",
    "\n",
    "a=5\n",
    "b=2\n",
    "\n",
    "try:\n",
    "    print(\"resource open\")\n",
    "    print(a/b)\n",
    "    k=int(input(\"enter a number\"))\n",
    "    print(k)\n",
    "except ZeroDivisionError as e:\n",
    "    print(\"the value can not be divided by zero\",e)\n",
    "except ValueError as e:\n",
    "    print(\"invalid input\")\n",
    "except Exception as e:\n",
    "    print(\"something went wrong...\",e)\n",
    "finally:\n",
    "    print(\"resource closed\")"
   ]
  },
  {
   "cell_type": "markdown",
   "metadata": {},
   "source": [
    "## Modules (Date, Time, os, calendar, math):"
   ]
  },
  {
   "cell_type": "code",
   "execution_count": 17,
   "metadata": {},
   "outputs": [
    {
     "name": "stdout",
     "output_type": "stream",
     "text": [
      "2019-05-27 06:35:40\n"
     ]
    },
    {
     "data": {
      "text/plain": [
       "datetime.datetime(2019, 5, 27, 6, 35, 40)"
      ]
     },
     "execution_count": 17,
     "metadata": {},
     "output_type": "execute_result"
    }
   ],
   "source": [
    "# Write a python program to display date, time\n",
    "import datetime\n",
    "a=datetime.datetime(2019,5,27,6,35,40)\n",
    "print(a)\n",
    "datetime.datetime(2019, 5, 27, 6, 35, 40)"
   ]
  },
  {
   "cell_type": "code",
   "execution_count": 18,
   "metadata": {},
   "outputs": [
    {
     "name": "stdout",
     "output_type": "stream",
     "text": [
      "2000-09-18\n"
     ]
    }
   ],
   "source": [
    "# write a python program to display date\n",
    "import datetime\n",
    "a=datetime.date(2000,9,18)\n",
    "print(a)"
   ]
  },
  {
   "cell_type": "code",
   "execution_count": 19,
   "metadata": {},
   "outputs": [
    {
     "name": "stdout",
     "output_type": "stream",
     "text": [
      "05:03:00\n"
     ]
    }
   ],
   "source": [
    "# write a python program to display time\n",
    "import datetime\n",
    "a=datetime.time(5,3)\n",
    "print(a)"
   ]
  },
  {
   "cell_type": "code",
   "execution_count": 20,
   "metadata": {},
   "outputs": [
    {
     "name": "stdout",
     "output_type": "stream",
     "text": [
      "2025-03-16 06:56:56.178849\n",
      "2025-03-16 06:56:56.178948\n"
     ]
    }
   ],
   "source": [
    "#write a python program to print date, time for today and now.\n",
    "import datetime\n",
    "\n",
    "a=datetime.datetime.today()\n",
    "b=datetime.datetime.now()\n",
    "print(a)\n",
    "print(b)"
   ]
  },
  {
   "cell_type": "code",
   "execution_count": 21,
   "metadata": {},
   "outputs": [
    {
     "name": "stdout",
     "output_type": "stream",
     "text": [
      "2025-03-23\n"
     ]
    }
   ],
   "source": [
    "#write a python program to add some days to your present date and print the date\n",
    "# added.\n",
    "import datetime\n",
    "a=datetime.date.today()\n",
    "b=datetime.timedelta(days=7)\n",
    "print(a+b)"
   ]
  },
  {
   "cell_type": "code",
   "execution_count": 22,
   "metadata": {},
   "outputs": [
    {
     "name": "stdout",
     "output_type": "stream",
     "text": [
      "26 days, 0:00:00\n"
     ]
    }
   ],
   "source": [
    "#write a python program to print the no. of days to write to reach your birthday\n",
    "import datetime\n",
    "a=datetime.date.today()\n",
    "b=datetime.date(2025,4,11)\n",
    "c=b-a\n",
    "print(c)"
   ]
  },
  {
   "cell_type": "code",
   "execution_count": 23,
   "metadata": {},
   "outputs": [
    {
     "name": "stdout",
     "output_type": "stream",
     "text": [
      "2025-03-16\n",
      "06:59:51.888513\n"
     ]
    }
   ],
   "source": [
    "#write an python program to print date, time using date and time functions\n",
    "import datetime\n",
    "t=datetime.datetime.today()\n",
    "print(t.date())\n",
    "print(t.time())"
   ]
  },
  {
   "cell_type": "markdown",
   "metadata": {},
   "source": [
    "## Time module:"
   ]
  },
  {
   "cell_type": "code",
   "execution_count": 24,
   "metadata": {},
   "outputs": [
    {
     "name": "stdout",
     "output_type": "stream",
     "text": [
      "1742090513.5125175\n"
     ]
    }
   ],
   "source": [
    "#write a python program to display time.\n",
    "import time\n",
    "print(time.time())"
   ]
  },
  {
   "cell_type": "code",
   "execution_count": 25,
   "metadata": {},
   "outputs": [
    {
     "name": "stdout",
     "output_type": "stream",
     "text": [
      "time.struct_time(tm_year=2025, tm_mon=3, tm_mday=16, tm_hour=7, tm_min=2, tm_sec=8, tm_wday=6, tm_yday=75, tm_isdst=0)\n"
     ]
    }
   ],
   "source": [
    "#write a python program to get structure of time stamp.\n",
    "import time\n",
    "print(time.localtime(time.time()))"
   ]
  },
  {
   "cell_type": "code",
   "execution_count": 26,
   "metadata": {},
   "outputs": [
    {
     "name": "stdout",
     "output_type": "stream",
     "text": [
      "Python Lab\n"
     ]
    }
   ],
   "source": [
    "#write a python program using sleep().\n",
    "import time\n",
    "time.sleep(6) #prints after 6 seconds\n",
    "print(\"Python Lab\")"
   ]
  },
  {
   "cell_type": "markdown",
   "metadata": {},
   "source": [
    "### os module:"
   ]
  },
  {
   "cell_type": "code",
   "execution_count": 27,
   "metadata": {},
   "outputs": [
    {
     "name": "stdout",
     "output_type": "stream",
     "text": [
      "nt\n"
     ]
    }
   ],
   "source": [
    "import os\n",
    "print(os.name)"
   ]
  },
  {
   "cell_type": "code",
   "execution_count": null,
   "metadata": {},
   "outputs": [],
   "source": [
    "os.mkdir(\"temp1\")"
   ]
  },
  {
   "cell_type": "code",
   "execution_count": 33,
   "metadata": {},
   "outputs": [
    {
     "data": {
      "text/plain": [
       "False"
      ]
     },
     "execution_count": 33,
     "metadata": {},
     "output_type": "execute_result"
    }
   ],
   "source": [
    "os.access(\"one.txt\",os.F_OK)"
   ]
  },
  {
   "cell_type": "code",
   "execution_count": 36,
   "metadata": {},
   "outputs": [
    {
     "data": {
      "text/plain": [
       "False"
      ]
     },
     "execution_count": 36,
     "metadata": {},
     "output_type": "execute_result"
    }
   ],
   "source": [
    "os.rename(\"t3.py\",\"t4.py\")\n",
    "os.access(\"t1.py\",os.F_OK)"
   ]
  },
  {
   "cell_type": "code",
   "execution_count": 37,
   "metadata": {},
   "outputs": [],
   "source": [
    "os.rmdir('temp1')"
   ]
  },
  {
   "cell_type": "markdown",
   "metadata": {},
   "source": [
    "## math module:"
   ]
  },
  {
   "cell_type": "code",
   "execution_count": 38,
   "metadata": {},
   "outputs": [
    {
     "name": "stdout",
     "output_type": "stream",
     "text": [
      "Area of circle is: 78.53981633974483\n"
     ]
    }
   ],
   "source": [
    "# write a python program which accepts the radius of a circle from user and computes\n",
    "# the area.\n",
    "import math\n",
    "r=int(input(\"Enter radius:\"))\n",
    "area=math.pi*r*r\n",
    "print(\"Area of circle is:\",area)"
   ]
  },
  {
   "cell_type": "code",
   "execution_count": 39,
   "metadata": {},
   "outputs": [
    {
     "name": "stdout",
     "output_type": "stream",
     "text": [
      "The value of pi is 3.141592653589793\n"
     ]
    }
   ],
   "source": [
    "import math\n",
    "print(\"The value of pi is\", math.pi)"
   ]
  },
  {
   "cell_type": "code",
   "execution_count": 40,
   "metadata": {},
   "outputs": [
    {
     "name": "stdout",
     "output_type": "stream",
     "text": [
      "The value of pi is 3.141592653589793\n"
     ]
    }
   ],
   "source": [
    "import math as m\n",
    "print(\"The value of pi is\", m.pi)"
   ]
  }
 ],
 "metadata": {
  "kernelspec": {
   "display_name": "venv",
   "language": "python",
   "name": "python3"
  },
  "language_info": {
   "codemirror_mode": {
    "name": "ipython",
    "version": 3
   },
   "file_extension": ".py",
   "mimetype": "text/x-python",
   "name": "python",
   "nbconvert_exporter": "python",
   "pygments_lexer": "ipython3",
   "version": "3.13.1"
  }
 },
 "nbformat": 4,
 "nbformat_minor": 2
}
