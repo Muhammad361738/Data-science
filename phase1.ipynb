{
 "cells": [
  {
   "cell_type": "markdown",
   "metadata": {},
   "source": [
    "##  Numpy array and basics\n",
    "Learn about numpay with chai aur code  "
   ]
  },
  {
   "cell_type": "code",
   "execution_count": 1,
   "metadata": {},
   "outputs": [],
   "source": [
    "import numpy as np"
   ]
  },
  {
   "cell_type": "markdown",
   "metadata": {},
   "source": [
    "### creating arry from list"
   ]
  },
  {
   "cell_type": "code",
   "execution_count": 4,
   "metadata": {},
   "outputs": [
    {
     "name": "stdout",
     "output_type": "stream",
     "text": [
      "1D array  [1 2 3 4 5]\n",
      "2D array  [[1 2 3 4]\n",
      " [5 6 7 8]]\n"
     ]
    }
   ],
   "source": [
    "arr_id = np.array([1,2,3,4,5])\n",
    "\n",
    "print(\"1D array \",arr_id)\n",
    "\n",
    "arr_2 = np.array([[1,2,3,4],[5,6,7,8]])\n",
    "print(\"2D array \",arr_2)\n"
   ]
  },
  {
   "cell_type": "markdown",
   "metadata": {},
   "source": [
    "### list vs numpy array  "
   ]
  },
  {
   "cell_type": "code",
   "execution_count": 6,
   "metadata": {},
   "outputs": [
    {
     "name": "stdout",
     "output_type": "stream",
     "text": [
      "python list multiplication  [1, 2, 3, 4, 5, 1, 2, 3, 4, 5]\n",
      "python list multiplication  [2 4 6]\n",
      "\n",
      " python  List time  5.710797548294067\n",
      "\n",
      " python  List time  0.03581881523132324\n"
     ]
    }
   ],
   "source": [
    "py_list1 = [1,2,3,4,5]\n",
    "print(\"python list multiplication \",py_list1 * 2)\n",
    "\n",
    "numpy_arr1 = np.array([1,2,3])\n",
    "print(\"python list multiplication \",numpy_arr1 * 2)\n",
    "\n",
    "import time \n",
    "\n",
    "start_time = time.time()\n",
    "\n",
    "py_list = [i * 2 for i in range(10000000)]\n",
    "print(\"\\n python  List time \", time.time() - start_time)\n",
    "\n",
    "start_time = time.time()\n",
    "\n",
    "numpy_arr = np.arange(10000000)\n",
    "print(\"\\n python  List time \", time.time() - start_time)\n"
   ]
  },
  {
   "cell_type": "markdown",
   "metadata": {},
   "source": [
    "## creating array from scratch "
   ]
  },
  {
   "cell_type": "code",
   "execution_count": 14,
   "metadata": {},
   "outputs": [
    {
     "name": "stdout",
     "output_type": "stream",
     "text": [
      " zerros array \n",
      " [[0. 0. 0. 0.]\n",
      " [0. 0. 0. 0.]\n",
      " [0. 0. 0. 0.]]\n",
      " ones array \n",
      " [[1. 1. 1.]\n",
      " [1. 1. 1.]]\n",
      " constant array \n",
      " [[7 7 7]\n",
      " [7 7 7]]\n",
      " random array \n",
      " [[0.55588862 0.81003883 0.44796988]\n",
      " [0.51645089 0.75880054 0.92905647]]\n",
      " sequence \n",
      " [0 2 4 6 8]\n"
     ]
    }
   ],
   "source": [
    "zeros_array = np.zeros((3,4))\n",
    "print(\" zerros array \\n\", zeros_array)\n",
    "\n",
    "\n",
    "ones_array = np.ones((2,3))\n",
    "print(\" ones array \\n\", ones_array)\n",
    "\n",
    "full_array = np.full((2,3),7)\n",
    "print(\" constant array \\n\", full_array)\n",
    "\n",
    "random_array = np.random.random((2,3))\n",
    "print(\" random array \\n\", random_array)\n",
    "\n",
    "sequance_array = np.arange(0,10,2)\n",
    "print(\" sequence \\n\", sequance_array)\n",
    "\n",
    "\n",
    "\n"
   ]
  },
  {
   "cell_type": "markdown",
   "metadata": {},
   "source": [
    "### vactor , Matrix, Tensor"
   ]
  },
  {
   "cell_type": "code",
   "execution_count": 17,
   "metadata": {},
   "outputs": [
    {
     "name": "stdout",
     "output_type": "stream",
     "text": [
      "Vector \n",
      " [1 2 3]\n",
      "Matrix \n",
      " [[1 2 3]\n",
      " [4 5 6]]\n",
      "Tenser \n",
      " [[[1 2 3]\n",
      "  [7 8 9]]\n",
      "\n",
      " [[4 5 6]\n",
      "  [1 2 3]]]\n"
     ]
    }
   ],
   "source": [
    "vector = np.array([1,2,3])\n",
    "print(\"Vector \\n\", vector)\n",
    "\n",
    "matrix = np.array([[1,2,3],[4,5,6]])\n",
    "print(\"Matrix \\n\", matrix)\n",
    "\n",
    "tensor = np.array([[[1,2,3],[7,8,9]],[[4,5,6],[1,2,3]]])\n",
    "print(\"Tenser \\n\", tensor)\n",
    "\n"
   ]
  },
  {
   "cell_type": "markdown",
   "metadata": {},
   "source": [
    "## Array Properties"
   ]
  },
  {
   "cell_type": "code",
   "execution_count": 19,
   "metadata": {},
   "outputs": [
    {
     "name": "stdout",
     "output_type": "stream",
     "text": [
      "Shape  (2, 3)\n",
      "Dimension  2\n",
      "Size  6\n",
      "Data Type  int64\n"
     ]
    }
   ],
   "source": [
    "arr_prop = np.array([[1,2,3],[4,5,6]])\n",
    "\n",
    "print(\"Shape \", arr_prop.shape)\n",
    "print(\"Dimension \", arr_prop.ndim)\n",
    "print(\"Size \", arr_prop.size)\n",
    "print(\"Data Type \", arr_prop.dtype)"
   ]
  },
  {
   "cell_type": "markdown",
   "metadata": {},
   "source": [
    "### Array Reshapping"
   ]
  },
  {
   "cell_type": "code",
   "execution_count": 23,
   "metadata": {},
   "outputs": [
    {
     "name": "stdout",
     "output_type": "stream",
     "text": [
      "Oraginal array  [ 0  1  2  3  4  5  6  7  8  9 10 11]\n",
      "Reshaped Array  [[ 0  1  2]\n",
      " [ 3  4  5]\n",
      " [ 6  7  8]\n",
      " [ 9 10 11]]\n",
      "Flattered \n",
      " [ 0  1  2  3  4  5  6  7  8  9 10 11]\n",
      "Raveled Array \n",
      " [ 0  1  2  3  4  5  6  7  8  9 10 11]\n",
      "Transpose \n",
      " [[ 0  3  6  9]\n",
      " [ 1  4  7 10]\n",
      " [ 2  5  8 11]]\n"
     ]
    }
   ],
   "source": [
    "arr_res = np.arange(12)\n",
    "print(\"Oraginal array \", arr_res)\n",
    "\n",
    "reshaped = arr_res.reshape((4,3))\n",
    "print(\"Reshaped Array \", reshaped)\n",
    "\n",
    "flattered_array = reshaped.flatten()\n",
    "print(\"Flattered \\n\", flattered_array)\n",
    "\n",
    "#  revel (returns view , insted of copy)\n",
    "\n",
    "raveled = reshaped.ravel()\n",
    "print(\"Raveled Array \\n\", raveled)\n",
    "\n",
    "#  transpose \n",
    "transpose = reshaped.T\n",
    "print(\"Transpose \\n\", transpose)\n",
    "\n"
   ]
  }
 ],
 "metadata": {
  "kernelspec": {
   "display_name": "venv",
   "language": "python",
   "name": "python3"
  },
  "language_info": {
   "codemirror_mode": {
    "name": "ipython",
    "version": 3
   },
   "file_extension": ".py",
   "mimetype": "text/x-python",
   "name": "python",
   "nbconvert_exporter": "python",
   "pygments_lexer": "ipython3",
   "version": "3.13.1"
  }
 },
 "nbformat": 4,
 "nbformat_minor": 2
}
