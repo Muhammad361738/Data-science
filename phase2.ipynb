{
 "cells": [
  {
   "cell_type": "markdown",
   "metadata": {},
   "source": [
    "## Numpy Array and operation"
   ]
  },
  {
   "cell_type": "code",
   "execution_count": null,
   "metadata": {},
   "outputs": [],
   "source": [
    "import numpy as np \n",
    "\n",
    "arr = np.array([1,2,3,4,5,6,7,8,9])\n",
    "print(\"Basic Slicing\", arr[1:5])\n",
    "print(\"With Step\", arr[2:8:2])\n",
    "print(\"Negative Indexing\", arr[-8])\n"
   ]
  },
  {
   "cell_type": "code",
   "execution_count": 5,
   "metadata": {},
   "outputs": [
    {
     "name": "stdout",
     "output_type": "stream",
     "text": [
      "Slicing in 2D arraty: 6\n",
      "Slicing in 2D arraty: [2 5 8]\n",
      "Slicing in 2D arraty: 2\n"
     ]
    }
   ],
   "source": [
    "import numpy as np\n",
    "arr_2d=np.array([[1,2,3],\n",
    "                [4,5,6],\n",
    "                [7,8,9]])\n",
    "print(\"Slicing in 2D arraty:\",arr_2d[1,2])\n",
    "print(\"Slicing in 2D arraty:\",arr_2d[:,1])\n",
    "print(\"Slicing in 2D arraty:\",arr_2d[0,1])\n",
    "\n"
   ]
  },
  {
   "cell_type": "markdown",
   "metadata": {},
   "source": [
    "## Sorting"
   ]
  }
 ],
 "metadata": {
  "kernelspec": {
   "display_name": "venv",
   "language": "python",
   "name": "python3"
  },
  "language_info": {
   "codemirror_mode": {
    "name": "ipython",
    "version": 3
   },
   "file_extension": ".py",
   "mimetype": "text/x-python",
   "name": "python",
   "nbconvert_exporter": "python",
   "pygments_lexer": "ipython3",
   "version": "3.13.1"
  }
 },
 "nbformat": 4,
 "nbformat_minor": 2
}
